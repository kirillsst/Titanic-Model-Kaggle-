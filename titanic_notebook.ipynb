{
 "cells": [
  {
   "cell_type": "markdown",
   "id": "9b27c325",
   "metadata": {},
   "source": [
    "# 1.Data preprocessing"
   ]
  },
  {
   "cell_type": "markdown",
   "id": "16fbd724",
   "metadata": {},
   "source": [
    "## Importaion des bibliothèques"
   ]
  },
  {
   "cell_type": "code",
   "execution_count": 2531,
   "id": "9d1d05ca",
   "metadata": {},
   "outputs": [],
   "source": [
    "import numpy as np\n",
    "import pandas as pd\n",
    "from sklearn.linear_model import LogisticRegression\n",
    "from sklearn.metrics import accuracy_score, confusion_matrix, classification_report\n",
    "from sklearn.ensemble import AdaBoostClassifier, RandomForestClassifier\n",
    "from sklearn.tree import DecisionTreeClassifier\n",
    "from sklearn.model_selection import KFold, cross_val_score, RandomizedSearchCV, train_test_split\n",
    "from xgboost import XGBClassifier\n",
    "from catboost import CatBoostClassifier, Pool"
   ]
  },
  {
   "cell_type": "markdown",
   "id": "169c728f",
   "metadata": {},
   "source": [
    "## Lecture des fichiers CSV"
   ]
  },
  {
   "cell_type": "code",
   "execution_count": 2532,
   "id": "c9469322",
   "metadata": {},
   "outputs": [
    {
     "name": "stdout",
     "output_type": "stream",
     "text": [
      "Train columns with null values:\n",
      " PassengerId      0\n",
      "Survived         0\n",
      "Pclass           0\n",
      "Name             0\n",
      "Sex              0\n",
      "Age            177\n",
      "SibSp            0\n",
      "Parch            0\n",
      "Ticket           0\n",
      "Fare             0\n",
      "Embarked         2\n",
      "dtype: int64\n",
      "----------\n",
      "Test/Validation columns with null values:\n",
      " PassengerId     0\n",
      "Pclass          0\n",
      "Name            0\n",
      "Sex             0\n",
      "Age            86\n",
      "SibSp           0\n",
      "Parch           0\n",
      "Ticket          0\n",
      "Fare            1\n",
      "Embarked        0\n",
      "dtype: int64\n",
      "----------\n"
     ]
    },
    {
     "data": {
      "text/html": [
       "<div>\n",
       "<style scoped>\n",
       "    .dataframe tbody tr th:only-of-type {\n",
       "        vertical-align: middle;\n",
       "    }\n",
       "\n",
       "    .dataframe tbody tr th {\n",
       "        vertical-align: top;\n",
       "    }\n",
       "\n",
       "    .dataframe thead th {\n",
       "        text-align: right;\n",
       "    }\n",
       "</style>\n",
       "<table border=\"1\" class=\"dataframe\">\n",
       "  <thead>\n",
       "    <tr style=\"text-align: right;\">\n",
       "      <th></th>\n",
       "      <th>PassengerId</th>\n",
       "      <th>Survived</th>\n",
       "      <th>Pclass</th>\n",
       "      <th>Name</th>\n",
       "      <th>Sex</th>\n",
       "      <th>Age</th>\n",
       "      <th>SibSp</th>\n",
       "      <th>Parch</th>\n",
       "      <th>Ticket</th>\n",
       "      <th>Fare</th>\n",
       "      <th>Embarked</th>\n",
       "    </tr>\n",
       "  </thead>\n",
       "  <tbody>\n",
       "    <tr>\n",
       "      <th>count</th>\n",
       "      <td>891.000000</td>\n",
       "      <td>891.000000</td>\n",
       "      <td>891.000000</td>\n",
       "      <td>891</td>\n",
       "      <td>891</td>\n",
       "      <td>714.000000</td>\n",
       "      <td>891.000000</td>\n",
       "      <td>891.000000</td>\n",
       "      <td>891</td>\n",
       "      <td>891.000000</td>\n",
       "      <td>889</td>\n",
       "    </tr>\n",
       "    <tr>\n",
       "      <th>unique</th>\n",
       "      <td>NaN</td>\n",
       "      <td>NaN</td>\n",
       "      <td>NaN</td>\n",
       "      <td>891</td>\n",
       "      <td>2</td>\n",
       "      <td>NaN</td>\n",
       "      <td>NaN</td>\n",
       "      <td>NaN</td>\n",
       "      <td>681</td>\n",
       "      <td>NaN</td>\n",
       "      <td>3</td>\n",
       "    </tr>\n",
       "    <tr>\n",
       "      <th>top</th>\n",
       "      <td>NaN</td>\n",
       "      <td>NaN</td>\n",
       "      <td>NaN</td>\n",
       "      <td>Braund, Mr. Owen Harris</td>\n",
       "      <td>male</td>\n",
       "      <td>NaN</td>\n",
       "      <td>NaN</td>\n",
       "      <td>NaN</td>\n",
       "      <td>1601</td>\n",
       "      <td>NaN</td>\n",
       "      <td>S</td>\n",
       "    </tr>\n",
       "    <tr>\n",
       "      <th>freq</th>\n",
       "      <td>NaN</td>\n",
       "      <td>NaN</td>\n",
       "      <td>NaN</td>\n",
       "      <td>1</td>\n",
       "      <td>577</td>\n",
       "      <td>NaN</td>\n",
       "      <td>NaN</td>\n",
       "      <td>NaN</td>\n",
       "      <td>7</td>\n",
       "      <td>NaN</td>\n",
       "      <td>644</td>\n",
       "    </tr>\n",
       "    <tr>\n",
       "      <th>mean</th>\n",
       "      <td>446.000000</td>\n",
       "      <td>0.383838</td>\n",
       "      <td>2.308642</td>\n",
       "      <td>NaN</td>\n",
       "      <td>NaN</td>\n",
       "      <td>29.699118</td>\n",
       "      <td>0.523008</td>\n",
       "      <td>0.381594</td>\n",
       "      <td>NaN</td>\n",
       "      <td>32.204208</td>\n",
       "      <td>NaN</td>\n",
       "    </tr>\n",
       "    <tr>\n",
       "      <th>std</th>\n",
       "      <td>257.353842</td>\n",
       "      <td>0.486592</td>\n",
       "      <td>0.836071</td>\n",
       "      <td>NaN</td>\n",
       "      <td>NaN</td>\n",
       "      <td>14.526497</td>\n",
       "      <td>1.102743</td>\n",
       "      <td>0.806057</td>\n",
       "      <td>NaN</td>\n",
       "      <td>49.693429</td>\n",
       "      <td>NaN</td>\n",
       "    </tr>\n",
       "    <tr>\n",
       "      <th>min</th>\n",
       "      <td>1.000000</td>\n",
       "      <td>0.000000</td>\n",
       "      <td>1.000000</td>\n",
       "      <td>NaN</td>\n",
       "      <td>NaN</td>\n",
       "      <td>0.420000</td>\n",
       "      <td>0.000000</td>\n",
       "      <td>0.000000</td>\n",
       "      <td>NaN</td>\n",
       "      <td>0.000000</td>\n",
       "      <td>NaN</td>\n",
       "    </tr>\n",
       "    <tr>\n",
       "      <th>25%</th>\n",
       "      <td>223.500000</td>\n",
       "      <td>0.000000</td>\n",
       "      <td>2.000000</td>\n",
       "      <td>NaN</td>\n",
       "      <td>NaN</td>\n",
       "      <td>20.125000</td>\n",
       "      <td>0.000000</td>\n",
       "      <td>0.000000</td>\n",
       "      <td>NaN</td>\n",
       "      <td>7.910400</td>\n",
       "      <td>NaN</td>\n",
       "    </tr>\n",
       "    <tr>\n",
       "      <th>50%</th>\n",
       "      <td>446.000000</td>\n",
       "      <td>0.000000</td>\n",
       "      <td>3.000000</td>\n",
       "      <td>NaN</td>\n",
       "      <td>NaN</td>\n",
       "      <td>28.000000</td>\n",
       "      <td>0.000000</td>\n",
       "      <td>0.000000</td>\n",
       "      <td>NaN</td>\n",
       "      <td>14.454200</td>\n",
       "      <td>NaN</td>\n",
       "    </tr>\n",
       "    <tr>\n",
       "      <th>75%</th>\n",
       "      <td>668.500000</td>\n",
       "      <td>1.000000</td>\n",
       "      <td>3.000000</td>\n",
       "      <td>NaN</td>\n",
       "      <td>NaN</td>\n",
       "      <td>38.000000</td>\n",
       "      <td>1.000000</td>\n",
       "      <td>0.000000</td>\n",
       "      <td>NaN</td>\n",
       "      <td>31.000000</td>\n",
       "      <td>NaN</td>\n",
       "    </tr>\n",
       "    <tr>\n",
       "      <th>max</th>\n",
       "      <td>891.000000</td>\n",
       "      <td>1.000000</td>\n",
       "      <td>3.000000</td>\n",
       "      <td>NaN</td>\n",
       "      <td>NaN</td>\n",
       "      <td>80.000000</td>\n",
       "      <td>8.000000</td>\n",
       "      <td>6.000000</td>\n",
       "      <td>NaN</td>\n",
       "      <td>512.329200</td>\n",
       "      <td>NaN</td>\n",
       "    </tr>\n",
       "  </tbody>\n",
       "</table>\n",
       "</div>"
      ],
      "text/plain": [
       "        PassengerId    Survived      Pclass                     Name   Sex  \\\n",
       "count    891.000000  891.000000  891.000000                      891   891   \n",
       "unique          NaN         NaN         NaN                      891     2   \n",
       "top             NaN         NaN         NaN  Braund, Mr. Owen Harris  male   \n",
       "freq            NaN         NaN         NaN                        1   577   \n",
       "mean     446.000000    0.383838    2.308642                      NaN   NaN   \n",
       "std      257.353842    0.486592    0.836071                      NaN   NaN   \n",
       "min        1.000000    0.000000    1.000000                      NaN   NaN   \n",
       "25%      223.500000    0.000000    2.000000                      NaN   NaN   \n",
       "50%      446.000000    0.000000    3.000000                      NaN   NaN   \n",
       "75%      668.500000    1.000000    3.000000                      NaN   NaN   \n",
       "max      891.000000    1.000000    3.000000                      NaN   NaN   \n",
       "\n",
       "               Age       SibSp       Parch Ticket        Fare Embarked  \n",
       "count   714.000000  891.000000  891.000000    891  891.000000      889  \n",
       "unique         NaN         NaN         NaN    681         NaN        3  \n",
       "top            NaN         NaN         NaN   1601         NaN        S  \n",
       "freq           NaN         NaN         NaN      7         NaN      644  \n",
       "mean     29.699118    0.523008    0.381594    NaN   32.204208      NaN  \n",
       "std      14.526497    1.102743    0.806057    NaN   49.693429      NaN  \n",
       "min       0.420000    0.000000    0.000000    NaN    0.000000      NaN  \n",
       "25%      20.125000    0.000000    0.000000    NaN    7.910400      NaN  \n",
       "50%      28.000000    0.000000    0.000000    NaN   14.454200      NaN  \n",
       "75%      38.000000    1.000000    0.000000    NaN   31.000000      NaN  \n",
       "max      80.000000    8.000000    6.000000    NaN  512.329200      NaN  "
      ]
     },
     "execution_count": 2532,
     "metadata": {},
     "output_type": "execute_result"
    }
   ],
   "source": [
    "test = pd.read_csv('../titanic-project/titanic_data/test.csv') \n",
    "train = pd.read_csv('../titanic-project/titanic_data/train.csv')\n",
    "train.head()\n",
    "train = train.drop(columns='Cabin')\n",
    "test = test.drop(columns='Cabin')\n",
    "print('Train columns with null values:\\n', train.isnull().sum())\n",
    "print(\"-\"*10)\n",
    "\n",
    "print('Test/Validation columns with null values:\\n', test.isnull().sum())\n",
    "print(\"-\"*10)\n",
    "\n",
    "train.describe(include = 'all')"
   ]
  },
  {
   "cell_type": "code",
   "execution_count": 2533,
   "id": "738561c9",
   "metadata": {},
   "outputs": [
    {
     "name": "stdout",
     "output_type": "stream",
     "text": [
      "% of women who survived: 0.7420382165605095\n"
     ]
    }
   ],
   "source": [
    "women = train.loc[train.Sex == 'female'][\"Survived\"]\n",
    "rate_women = sum(women)/len(women)\n",
    "\n",
    "print(\"% of women who survived:\", rate_women)"
   ]
  },
  {
   "cell_type": "code",
   "execution_count": 2534,
   "id": "59827578",
   "metadata": {},
   "outputs": [
    {
     "name": "stdout",
     "output_type": "stream",
     "text": [
      "% of men who survived: 0.18890814558058924\n"
     ]
    }
   ],
   "source": [
    "men = train.loc[train.Sex == 'male'][\"Survived\"]\n",
    "rate_men = sum(men)/len(men)\n",
    "\n",
    "print(\"% of men who survived:\", rate_men)"
   ]
  },
  {
   "cell_type": "code",
   "execution_count": 2535,
   "id": "031a97c5",
   "metadata": {},
   "outputs": [
    {
     "name": "stdout",
     "output_type": "stream",
     "text": [
      "% of passengers who survived in class 1: 0.63\n",
      "% of passengers who survived in class 2: 0.47\n",
      "% of passengers who survived in class 3: 0.24\n"
     ]
    }
   ],
   "source": [
    "for pclass in [1, 2, 3]:\n",
    "    survived = train[train.Pclass == pclass][\"Survived\"]\n",
    "    rate = survived.mean()\n",
    "    print(f\"% of passengers who survived in class {pclass}: {rate:.2f}\")"
   ]
  },
  {
   "cell_type": "code",
   "execution_count": 2536,
   "id": "9ffb30a5",
   "metadata": {},
   "outputs": [
    {
     "name": "stdout",
     "output_type": "stream",
     "text": [
      "% of children under 10 who survived: 0.6129032258064516\n"
     ]
    }
   ],
   "source": [
    "children = train[train[\"Age\"] < 10][\"Survived\"]\n",
    "rate_children = children.mean()\n",
    "\n",
    "print(\"% of children under 10 who survived:\", rate_children)"
   ]
  },
  {
   "cell_type": "code",
   "execution_count": 2537,
   "id": "f02ee435",
   "metadata": {},
   "outputs": [
    {
     "name": "stdout",
     "output_type": "stream",
     "text": [
      "% of passengers with Fare > 100 who survived: 0.7358490566037735\n"
     ]
    }
   ],
   "source": [
    "high_fare = train[train[\"Fare\"] > 100][\"Survived\"]\n",
    "rate_high_fare = high_fare.mean()\n",
    "\n",
    "print(\"% of passengers with Fare > 100 who survived:\", rate_high_fare)"
   ]
  },
  {
   "cell_type": "code",
   "execution_count": 2538,
   "id": "225d27bf",
   "metadata": {},
   "outputs": [
    {
     "name": "stdout",
     "output_type": "stream",
     "text": [
      "% of passengers from port S who survived: 0.34\n",
      "% of passengers from port C who survived: 0.55\n",
      "% of passengers from port Q who survived: 0.39\n"
     ]
    }
   ],
   "source": [
    "for port in train[\"Embarked\"].dropna().unique():\n",
    "    rate = train[train[\"Embarked\"] == port][\"Survived\"].mean()\n",
    "    print(f\"% of passengers from port {port} who survived: {rate:.2f}\")\n"
   ]
  },
  {
   "cell_type": "code",
   "execution_count": 2539,
   "id": "804be4c4",
   "metadata": {},
   "outputs": [
    {
     "data": {
      "text/plain": [
       "0        Mr\n",
       "1       Mrs\n",
       "2      Miss\n",
       "3       Mrs\n",
       "4        Mr\n",
       "       ... \n",
       "886    Rare\n",
       "887    Miss\n",
       "888    Miss\n",
       "889      Mr\n",
       "890      Mr\n",
       "Name: Title, Length: 891, dtype: object"
      ]
     },
     "execution_count": 2539,
     "metadata": {},
     "output_type": "execute_result"
    }
   ],
   "source": [
    "# Extraire le titre du nom\n",
    "train['Title'] = train['Name'].str.extract(' ([A-Za-z]+)', expand=False)\n",
    "test['Title'] = test['Name'].str.extract(' ([A-Za-z]+)', expand=False)\n",
    "\n",
    "# Simplifier les titres rares\n",
    "for df in [train, test]:\n",
    "    df['Title'] = df['Title'].replace(['Lady', 'Countess','Capt','Col','Don','Dr', 'Major','Rev','Sir','Jonkheer','Dona'], 'Rare')\n",
    "    df['Title'] = df['Title'].replace(['Mlle','Ms'], 'Miss')\n",
    "    df['Title'] = df['Title'].replace('Mme', 'Mrs')\n",
    "train['Title']\n"
   ]
  },
  {
   "cell_type": "code",
   "execution_count": 2540,
   "id": "5172658a",
   "metadata": {},
   "outputs": [
    {
     "data": {
      "text/plain": [
       "0      0\n",
       "1      0\n",
       "2      1\n",
       "3      0\n",
       "4      1\n",
       "      ..\n",
       "886    1\n",
       "887    1\n",
       "888    0\n",
       "889    1\n",
       "890    1\n",
       "Name: IsAlone, Length: 891, dtype: int64"
      ]
     },
     "execution_count": 2540,
     "metadata": {},
     "output_type": "execute_result"
    }
   ],
   "source": [
    "# Si une personne n'a pas de frères/sœurs (SibSp) ou de parents/enfants (Parch), elle est seule.\n",
    "train['IsAlone'] = (train['SibSp'] + train['Parch'] == 0).astype(int)\n",
    "test['IsAlone'] = (test['SibSp'] + test['Parch'] == 0).astype(int)\n",
    "\n",
    "train['IsAlone']\n"
   ]
  },
  {
   "cell_type": "code",
   "execution_count": 2541,
   "id": "758d679c",
   "metadata": {},
   "outputs": [
    {
     "data": {
      "text/plain": [
       "0      2\n",
       "1      2\n",
       "2      1\n",
       "3      2\n",
       "4      1\n",
       "      ..\n",
       "886    1\n",
       "887    1\n",
       "888    4\n",
       "889    1\n",
       "890    1\n",
       "Name: FamilySize, Length: 891, dtype: int64"
      ]
     },
     "execution_count": 2541,
     "metadata": {},
     "output_type": "execute_result"
    }
   ],
   "source": [
    "# FamilySize - taille de la famille (y compris le passager)\n",
    "train['FamilySize'] = train['SibSp'] + train['Parch'] + 1\n",
    "test['FamilySize'] = test['SibSp'] + test['Parch'] + 1\n",
    "\n",
    "train['FamilySize']"
   ]
  },
  {
   "cell_type": "markdown",
   "id": "046ea566",
   "metadata": {},
   "source": [
    "## Entraînment du modele "
   ]
  },
  {
   "cell_type": "markdown",
   "metadata": {},
   "source": [
    "##"
   ]
  },
  {
   "cell_type": "code",
   "execution_count": null,
   "id": "68d897f0",
   "metadata": {},
   "outputs": [
    {
     "name": "stdout",
     "output_type": "stream",
     "text": [
      "0:\tlearn: 0.7604485\ttest: 0.7460317\tbest: 0.7460317 (0)\ttotal: 2.91ms\tremaining: 2.91s\n",
      "Stopped by overfitting detector  (50 iterations wait)\n",
      "\n",
      "bestTest = 0.7817460317\n",
      "bestIteration = 7\n",
      "\n",
      "Shrink model to first 8 iterations.\n",
      "              precision    recall  f1-score   support\n",
      "\n",
      "           0       0.81      0.90      0.85       106\n",
      "           1       0.82      0.70      0.76        73\n",
      "\n",
      "    accuracy                           0.82       179\n",
      "   macro avg       0.82      0.80      0.80       179\n",
      "weighted avg       0.82      0.82      0.81       179\n",
      "\n"
     ]
    }
   ],
   "source": [
    "y = train[\"Survived\"]\n",
    "\n",
    "# features\n",
    "features = [\"Pclass\", \"Sex\", \"SibSp\", \"Parch\", \"IsAlone\", \"Title\", \"Embarked\", \"FamilySize\", \"Age\"]\n",
    "cat_features = [\"Pclass\", \"Sex\", \"Title\", \"Embarked\", \"IsAlone\"]\n",
    "\n",
    "# Sélectionner les données dont nous avons besoin\n",
    "X = train[features].copy()\n",
    "X_test = test[features].copy()\n",
    "\n",
    "# Remplir title  \n",
    "for col in cat_features:\n",
    "    X[col] = X[col].fillna(\"missing\").astype(str)\n",
    "    X_test[col] = X_test[col].fillna(\"missing\").astype(str)\n",
    "\n",
    "# La décomposition en formation et en validation\n",
    "X_train, X_val, y_train, y_val = train_test_split(X, y, test_size=0.2, random_state=1)\n",
    "\n",
    "# CatBoost Pool\n",
    "train_pool = Pool(X_train, y_train, cat_features=cat_features)\n",
    "val_pool = Pool(X_val, y_val, cat_features=cat_features)\n",
    "test_pool = Pool(X_test, cat_features=cat_features)\n",
    "\n",
    "# Créer le modèle CatBoost\n",
    "model = CatBoostClassifier(\n",
    "    iterations=1000,\n",
    "    learning_rate=0.1,\n",
    "    depth=6,\n",
    "    eval_metric='Accuracy',\n",
    "    class_weights=[1, 2],\n",
    "    random_seed=42,\n",
    "    verbose=0,\n",
    "    early_stopping_rounds=50\n",
    ")\n",
    "\n",
    "model.fit(train_pool, eval_set=val_pool)\n",
    "\n",
    "val_pred = model.predict(val_pool)\n",
    "print(classification_report(y_val, val_pred))\n",
    "\n",
    "# Prédictions sur un test\n",
    "test_pred = model.predict(test_pool)\n",
    "output = pd.DataFrame({'PassengerId': test.PassengerId, 'Survived': test_pred.astype(int)})\n",
    "output.to_csv('submission.csv', index=False)"
   ]
  },
  {
   "cell_type": "markdown",
   "id": "b3bf1b77",
   "metadata": {},
   "source": []
  }
 ],
 "metadata": {
  "language_info": {
   "name": "python"
  }
 },
 "nbformat": 4,
 "nbformat_minor": 5
}
