{
 "cells": [
  {
   "cell_type": "markdown",
   "id": "105aa5ed",
   "metadata": {},
   "source": [
    "Titanic project\n",
    "\n",
    "3 fichiers csv : <li> gender_submission (exemple de BDD à soumettre) </li>\n",
    "                 <li> - test (fichier d'entraînement/ BDD raw) </li>\n",
    "                 <li> - train (aussi connu as \"ground truth\" fichier de vérification pour l'entraînement) </li>\n",
    "\n",
    "Il va falloir d'abord analyser les données du fichier train.csv pour déterminer quels sont les facteurs importants de survie\n",
    "                \n",
    "\n",
    "1/ Analyse de données train.csv"
   ]
  },
  {
   "cell_type": "code",
   "execution_count": 54,
   "id": "9d01ed14",
   "metadata": {},
   "outputs": [
    {
     "data": {
      "application/vnd.microsoft.datawrangler.viewer.v0+json": {
       "columns": [
        {
         "name": "index",
         "rawType": "int64",
         "type": "integer"
        },
        {
         "name": "PassengerId",
         "rawType": "int64",
         "type": "integer"
        },
        {
         "name": "Survived",
         "rawType": "int64",
         "type": "integer"
        },
        {
         "name": "Pclass",
         "rawType": "int64",
         "type": "integer"
        },
        {
         "name": "Name",
         "rawType": "object",
         "type": "string"
        },
        {
         "name": "Sex",
         "rawType": "object",
         "type": "string"
        },
        {
         "name": "Age",
         "rawType": "float64",
         "type": "float"
        },
        {
         "name": "SibSp",
         "rawType": "int64",
         "type": "integer"
        },
        {
         "name": "Parch",
         "rawType": "int64",
         "type": "integer"
        },
        {
         "name": "Ticket",
         "rawType": "object",
         "type": "string"
        },
        {
         "name": "Fare",
         "rawType": "float64",
         "type": "float"
        },
        {
         "name": "Cabin",
         "rawType": "object",
         "type": "unknown"
        },
        {
         "name": "Embarked",
         "rawType": "object",
         "type": "unknown"
        }
       ],
       "ref": "da1b0d21-93d2-47ca-9fda-da1de74dfccd",
       "rows": [
        [
         "0",
         "1",
         "0",
         "3",
         "Braund, Mr. Owen Harris",
         "male",
         "22.0",
         "1",
         "0",
         "A/5 21171",
         "7.25",
         null,
         "S"
        ],
        [
         "1",
         "2",
         "1",
         "1",
         "Cumings, Mrs. John Bradley (Florence Briggs Thayer)",
         "female",
         "38.0",
         "1",
         "0",
         "PC 17599",
         "71.2833",
         "C85",
         "C"
        ],
        [
         "2",
         "3",
         "1",
         "3",
         "Heikkinen, Miss. Laina",
         "female",
         "26.0",
         "0",
         "0",
         "STON/O2. 3101282",
         "7.925",
         null,
         "S"
        ],
        [
         "3",
         "4",
         "1",
         "1",
         "Futrelle, Mrs. Jacques Heath (Lily May Peel)",
         "female",
         "35.0",
         "1",
         "0",
         "113803",
         "53.1",
         "C123",
         "S"
        ],
        [
         "4",
         "5",
         "0",
         "3",
         "Allen, Mr. William Henry",
         "male",
         "35.0",
         "0",
         "0",
         "373450",
         "8.05",
         null,
         "S"
        ],
        [
         "5",
         "6",
         "0",
         "3",
         "Moran, Mr. James",
         "male",
         null,
         "0",
         "0",
         "330877",
         "8.4583",
         null,
         "Q"
        ],
        [
         "6",
         "7",
         "0",
         "1",
         "McCarthy, Mr. Timothy J",
         "male",
         "54.0",
         "0",
         "0",
         "17463",
         "51.8625",
         "E46",
         "S"
        ],
        [
         "7",
         "8",
         "0",
         "3",
         "Palsson, Master. Gosta Leonard",
         "male",
         "2.0",
         "3",
         "1",
         "349909",
         "21.075",
         null,
         "S"
        ],
        [
         "8",
         "9",
         "1",
         "3",
         "Johnson, Mrs. Oscar W (Elisabeth Vilhelmina Berg)",
         "female",
         "27.0",
         "0",
         "2",
         "347742",
         "11.1333",
         null,
         "S"
        ],
        [
         "9",
         "10",
         "1",
         "2",
         "Nasser, Mrs. Nicholas (Adele Achem)",
         "female",
         "14.0",
         "1",
         "0",
         "237736",
         "30.0708",
         null,
         "C"
        ],
        [
         "10",
         "11",
         "1",
         "3",
         "Sandstrom, Miss. Marguerite Rut",
         "female",
         "4.0",
         "1",
         "1",
         "PP 9549",
         "16.7",
         "G6",
         "S"
        ],
        [
         "11",
         "12",
         "1",
         "1",
         "Bonnell, Miss. Elizabeth",
         "female",
         "58.0",
         "0",
         "0",
         "113783",
         "26.55",
         "C103",
         "S"
        ],
        [
         "12",
         "13",
         "0",
         "3",
         "Saundercock, Mr. William Henry",
         "male",
         "20.0",
         "0",
         "0",
         "A/5. 2151",
         "8.05",
         null,
         "S"
        ],
        [
         "13",
         "14",
         "0",
         "3",
         "Andersson, Mr. Anders Johan",
         "male",
         "39.0",
         "1",
         "5",
         "347082",
         "31.275",
         null,
         "S"
        ],
        [
         "14",
         "15",
         "0",
         "3",
         "Vestrom, Miss. Hulda Amanda Adolfina",
         "female",
         "14.0",
         "0",
         "0",
         "350406",
         "7.8542",
         null,
         "S"
        ],
        [
         "15",
         "16",
         "1",
         "2",
         "Hewlett, Mrs. (Mary D Kingcome) ",
         "female",
         "55.0",
         "0",
         "0",
         "248706",
         "16.0",
         null,
         "S"
        ],
        [
         "16",
         "17",
         "0",
         "3",
         "Rice, Master. Eugene",
         "male",
         "2.0",
         "4",
         "1",
         "382652",
         "29.125",
         null,
         "Q"
        ],
        [
         "17",
         "18",
         "1",
         "2",
         "Williams, Mr. Charles Eugene",
         "male",
         null,
         "0",
         "0",
         "244373",
         "13.0",
         null,
         "S"
        ],
        [
         "18",
         "19",
         "0",
         "3",
         "Vander Planke, Mrs. Julius (Emelia Maria Vandemoortele)",
         "female",
         "31.0",
         "1",
         "0",
         "345763",
         "18.0",
         null,
         "S"
        ],
        [
         "19",
         "20",
         "1",
         "3",
         "Masselmani, Mrs. Fatima",
         "female",
         null,
         "0",
         "0",
         "2649",
         "7.225",
         null,
         "C"
        ],
        [
         "20",
         "21",
         "0",
         "2",
         "Fynney, Mr. Joseph J",
         "male",
         "35.0",
         "0",
         "0",
         "239865",
         "26.0",
         null,
         "S"
        ],
        [
         "21",
         "22",
         "1",
         "2",
         "Beesley, Mr. Lawrence",
         "male",
         "34.0",
         "0",
         "0",
         "248698",
         "13.0",
         "D56",
         "S"
        ],
        [
         "22",
         "23",
         "1",
         "3",
         "McGowan, Miss. Anna \"Annie\"",
         "female",
         "15.0",
         "0",
         "0",
         "330923",
         "8.0292",
         null,
         "Q"
        ],
        [
         "23",
         "24",
         "1",
         "1",
         "Sloper, Mr. William Thompson",
         "male",
         "28.0",
         "0",
         "0",
         "113788",
         "35.5",
         "A6",
         "S"
        ],
        [
         "24",
         "25",
         "0",
         "3",
         "Palsson, Miss. Torborg Danira",
         "female",
         "8.0",
         "3",
         "1",
         "349909",
         "21.075",
         null,
         "S"
        ],
        [
         "25",
         "26",
         "1",
         "3",
         "Asplund, Mrs. Carl Oscar (Selma Augusta Emilia Johansson)",
         "female",
         "38.0",
         "1",
         "5",
         "347077",
         "31.3875",
         null,
         "S"
        ],
        [
         "26",
         "27",
         "0",
         "3",
         "Emir, Mr. Farred Chehab",
         "male",
         null,
         "0",
         "0",
         "2631",
         "7.225",
         null,
         "C"
        ],
        [
         "27",
         "28",
         "0",
         "1",
         "Fortune, Mr. Charles Alexander",
         "male",
         "19.0",
         "3",
         "2",
         "19950",
         "263.0",
         "C23 C25 C27",
         "S"
        ],
        [
         "28",
         "29",
         "1",
         "3",
         "O'Dwyer, Miss. Ellen \"Nellie\"",
         "female",
         null,
         "0",
         "0",
         "330959",
         "7.8792",
         null,
         "Q"
        ],
        [
         "29",
         "30",
         "0",
         "3",
         "Todoroff, Mr. Lalio",
         "male",
         null,
         "0",
         "0",
         "349216",
         "7.8958",
         null,
         "S"
        ],
        [
         "30",
         "31",
         "0",
         "1",
         "Uruchurtu, Don. Manuel E",
         "male",
         "40.0",
         "0",
         "0",
         "PC 17601",
         "27.7208",
         null,
         "C"
        ],
        [
         "31",
         "32",
         "1",
         "1",
         "Spencer, Mrs. William Augustus (Marie Eugenie)",
         "female",
         null,
         "1",
         "0",
         "PC 17569",
         "146.5208",
         "B78",
         "C"
        ],
        [
         "32",
         "33",
         "1",
         "3",
         "Glynn, Miss. Mary Agatha",
         "female",
         null,
         "0",
         "0",
         "335677",
         "7.75",
         null,
         "Q"
        ],
        [
         "33",
         "34",
         "0",
         "2",
         "Wheadon, Mr. Edward H",
         "male",
         "66.0",
         "0",
         "0",
         "C.A. 24579",
         "10.5",
         null,
         "S"
        ],
        [
         "34",
         "35",
         "0",
         "1",
         "Meyer, Mr. Edgar Joseph",
         "male",
         "28.0",
         "1",
         "0",
         "PC 17604",
         "82.1708",
         null,
         "C"
        ],
        [
         "35",
         "36",
         "0",
         "1",
         "Holverson, Mr. Alexander Oskar",
         "male",
         "42.0",
         "1",
         "0",
         "113789",
         "52.0",
         null,
         "S"
        ],
        [
         "36",
         "37",
         "1",
         "3",
         "Mamee, Mr. Hanna",
         "male",
         null,
         "0",
         "0",
         "2677",
         "7.2292",
         null,
         "C"
        ],
        [
         "37",
         "38",
         "0",
         "3",
         "Cann, Mr. Ernest Charles",
         "male",
         "21.0",
         "0",
         "0",
         "A./5. 2152",
         "8.05",
         null,
         "S"
        ],
        [
         "38",
         "39",
         "0",
         "3",
         "Vander Planke, Miss. Augusta Maria",
         "female",
         "18.0",
         "2",
         "0",
         "345764",
         "18.0",
         null,
         "S"
        ],
        [
         "39",
         "40",
         "1",
         "3",
         "Nicola-Yarred, Miss. Jamila",
         "female",
         "14.0",
         "1",
         "0",
         "2651",
         "11.2417",
         null,
         "C"
        ],
        [
         "40",
         "41",
         "0",
         "3",
         "Ahlin, Mrs. Johan (Johanna Persdotter Larsson)",
         "female",
         "40.0",
         "1",
         "0",
         "7546",
         "9.475",
         null,
         "S"
        ],
        [
         "41",
         "42",
         "0",
         "2",
         "Turpin, Mrs. William John Robert (Dorothy Ann Wonnacott)",
         "female",
         "27.0",
         "1",
         "0",
         "11668",
         "21.0",
         null,
         "S"
        ],
        [
         "42",
         "43",
         "0",
         "3",
         "Kraeff, Mr. Theodor",
         "male",
         null,
         "0",
         "0",
         "349253",
         "7.8958",
         null,
         "C"
        ],
        [
         "43",
         "44",
         "1",
         "2",
         "Laroche, Miss. Simonne Marie Anne Andree",
         "female",
         "3.0",
         "1",
         "2",
         "SC/Paris 2123",
         "41.5792",
         null,
         "C"
        ],
        [
         "44",
         "45",
         "1",
         "3",
         "Devaney, Miss. Margaret Delia",
         "female",
         "19.0",
         "0",
         "0",
         "330958",
         "7.8792",
         null,
         "Q"
        ],
        [
         "45",
         "46",
         "0",
         "3",
         "Rogers, Mr. William John",
         "male",
         null,
         "0",
         "0",
         "S.C./A.4. 23567",
         "8.05",
         null,
         "S"
        ],
        [
         "46",
         "47",
         "0",
         "3",
         "Lennon, Mr. Denis",
         "male",
         null,
         "1",
         "0",
         "370371",
         "15.5",
         null,
         "Q"
        ],
        [
         "47",
         "48",
         "1",
         "3",
         "O'Driscoll, Miss. Bridget",
         "female",
         null,
         "0",
         "0",
         "14311",
         "7.75",
         null,
         "Q"
        ],
        [
         "48",
         "49",
         "0",
         "3",
         "Samaan, Mr. Youssef",
         "male",
         null,
         "2",
         "0",
         "2662",
         "21.6792",
         null,
         "C"
        ],
        [
         "49",
         "50",
         "0",
         "3",
         "Arnold-Franchi, Mrs. Josef (Josefine Franchi)",
         "female",
         "18.0",
         "1",
         "0",
         "349237",
         "17.8",
         null,
         "S"
        ]
       ],
       "shape": {
        "columns": 12,
        "rows": 891
       }
      },
      "text/html": [
       "<div>\n",
       "<style scoped>\n",
       "    .dataframe tbody tr th:only-of-type {\n",
       "        vertical-align: middle;\n",
       "    }\n",
       "\n",
       "    .dataframe tbody tr th {\n",
       "        vertical-align: top;\n",
       "    }\n",
       "\n",
       "    .dataframe thead th {\n",
       "        text-align: right;\n",
       "    }\n",
       "</style>\n",
       "<table border=\"1\" class=\"dataframe\">\n",
       "  <thead>\n",
       "    <tr style=\"text-align: right;\">\n",
       "      <th></th>\n",
       "      <th>PassengerId</th>\n",
       "      <th>Survived</th>\n",
       "      <th>Pclass</th>\n",
       "      <th>Name</th>\n",
       "      <th>Sex</th>\n",
       "      <th>Age</th>\n",
       "      <th>SibSp</th>\n",
       "      <th>Parch</th>\n",
       "      <th>Ticket</th>\n",
       "      <th>Fare</th>\n",
       "      <th>Cabin</th>\n",
       "      <th>Embarked</th>\n",
       "    </tr>\n",
       "  </thead>\n",
       "  <tbody>\n",
       "    <tr>\n",
       "      <th>0</th>\n",
       "      <td>1</td>\n",
       "      <td>0</td>\n",
       "      <td>3</td>\n",
       "      <td>Braund, Mr. Owen Harris</td>\n",
       "      <td>male</td>\n",
       "      <td>22.0</td>\n",
       "      <td>1</td>\n",
       "      <td>0</td>\n",
       "      <td>A/5 21171</td>\n",
       "      <td>7.2500</td>\n",
       "      <td>NaN</td>\n",
       "      <td>S</td>\n",
       "    </tr>\n",
       "    <tr>\n",
       "      <th>1</th>\n",
       "      <td>2</td>\n",
       "      <td>1</td>\n",
       "      <td>1</td>\n",
       "      <td>Cumings, Mrs. John Bradley (Florence Briggs Th...</td>\n",
       "      <td>female</td>\n",
       "      <td>38.0</td>\n",
       "      <td>1</td>\n",
       "      <td>0</td>\n",
       "      <td>PC 17599</td>\n",
       "      <td>71.2833</td>\n",
       "      <td>C85</td>\n",
       "      <td>C</td>\n",
       "    </tr>\n",
       "    <tr>\n",
       "      <th>2</th>\n",
       "      <td>3</td>\n",
       "      <td>1</td>\n",
       "      <td>3</td>\n",
       "      <td>Heikkinen, Miss. Laina</td>\n",
       "      <td>female</td>\n",
       "      <td>26.0</td>\n",
       "      <td>0</td>\n",
       "      <td>0</td>\n",
       "      <td>STON/O2. 3101282</td>\n",
       "      <td>7.9250</td>\n",
       "      <td>NaN</td>\n",
       "      <td>S</td>\n",
       "    </tr>\n",
       "    <tr>\n",
       "      <th>3</th>\n",
       "      <td>4</td>\n",
       "      <td>1</td>\n",
       "      <td>1</td>\n",
       "      <td>Futrelle, Mrs. Jacques Heath (Lily May Peel)</td>\n",
       "      <td>female</td>\n",
       "      <td>35.0</td>\n",
       "      <td>1</td>\n",
       "      <td>0</td>\n",
       "      <td>113803</td>\n",
       "      <td>53.1000</td>\n",
       "      <td>C123</td>\n",
       "      <td>S</td>\n",
       "    </tr>\n",
       "    <tr>\n",
       "      <th>4</th>\n",
       "      <td>5</td>\n",
       "      <td>0</td>\n",
       "      <td>3</td>\n",
       "      <td>Allen, Mr. William Henry</td>\n",
       "      <td>male</td>\n",
       "      <td>35.0</td>\n",
       "      <td>0</td>\n",
       "      <td>0</td>\n",
       "      <td>373450</td>\n",
       "      <td>8.0500</td>\n",
       "      <td>NaN</td>\n",
       "      <td>S</td>\n",
       "    </tr>\n",
       "    <tr>\n",
       "      <th>...</th>\n",
       "      <td>...</td>\n",
       "      <td>...</td>\n",
       "      <td>...</td>\n",
       "      <td>...</td>\n",
       "      <td>...</td>\n",
       "      <td>...</td>\n",
       "      <td>...</td>\n",
       "      <td>...</td>\n",
       "      <td>...</td>\n",
       "      <td>...</td>\n",
       "      <td>...</td>\n",
       "      <td>...</td>\n",
       "    </tr>\n",
       "    <tr>\n",
       "      <th>886</th>\n",
       "      <td>887</td>\n",
       "      <td>0</td>\n",
       "      <td>2</td>\n",
       "      <td>Montvila, Rev. Juozas</td>\n",
       "      <td>male</td>\n",
       "      <td>27.0</td>\n",
       "      <td>0</td>\n",
       "      <td>0</td>\n",
       "      <td>211536</td>\n",
       "      <td>13.0000</td>\n",
       "      <td>NaN</td>\n",
       "      <td>S</td>\n",
       "    </tr>\n",
       "    <tr>\n",
       "      <th>887</th>\n",
       "      <td>888</td>\n",
       "      <td>1</td>\n",
       "      <td>1</td>\n",
       "      <td>Graham, Miss. Margaret Edith</td>\n",
       "      <td>female</td>\n",
       "      <td>19.0</td>\n",
       "      <td>0</td>\n",
       "      <td>0</td>\n",
       "      <td>112053</td>\n",
       "      <td>30.0000</td>\n",
       "      <td>B42</td>\n",
       "      <td>S</td>\n",
       "    </tr>\n",
       "    <tr>\n",
       "      <th>888</th>\n",
       "      <td>889</td>\n",
       "      <td>0</td>\n",
       "      <td>3</td>\n",
       "      <td>Johnston, Miss. Catherine Helen \"Carrie\"</td>\n",
       "      <td>female</td>\n",
       "      <td>NaN</td>\n",
       "      <td>1</td>\n",
       "      <td>2</td>\n",
       "      <td>W./C. 6607</td>\n",
       "      <td>23.4500</td>\n",
       "      <td>NaN</td>\n",
       "      <td>S</td>\n",
       "    </tr>\n",
       "    <tr>\n",
       "      <th>889</th>\n",
       "      <td>890</td>\n",
       "      <td>1</td>\n",
       "      <td>1</td>\n",
       "      <td>Behr, Mr. Karl Howell</td>\n",
       "      <td>male</td>\n",
       "      <td>26.0</td>\n",
       "      <td>0</td>\n",
       "      <td>0</td>\n",
       "      <td>111369</td>\n",
       "      <td>30.0000</td>\n",
       "      <td>C148</td>\n",
       "      <td>C</td>\n",
       "    </tr>\n",
       "    <tr>\n",
       "      <th>890</th>\n",
       "      <td>891</td>\n",
       "      <td>0</td>\n",
       "      <td>3</td>\n",
       "      <td>Dooley, Mr. Patrick</td>\n",
       "      <td>male</td>\n",
       "      <td>32.0</td>\n",
       "      <td>0</td>\n",
       "      <td>0</td>\n",
       "      <td>370376</td>\n",
       "      <td>7.7500</td>\n",
       "      <td>NaN</td>\n",
       "      <td>Q</td>\n",
       "    </tr>\n",
       "  </tbody>\n",
       "</table>\n",
       "<p>891 rows × 12 columns</p>\n",
       "</div>"
      ],
      "text/plain": [
       "     PassengerId  Survived  Pclass  \\\n",
       "0              1         0       3   \n",
       "1              2         1       1   \n",
       "2              3         1       3   \n",
       "3              4         1       1   \n",
       "4              5         0       3   \n",
       "..           ...       ...     ...   \n",
       "886          887         0       2   \n",
       "887          888         1       1   \n",
       "888          889         0       3   \n",
       "889          890         1       1   \n",
       "890          891         0       3   \n",
       "\n",
       "                                                  Name     Sex   Age  SibSp  \\\n",
       "0                              Braund, Mr. Owen Harris    male  22.0      1   \n",
       "1    Cumings, Mrs. John Bradley (Florence Briggs Th...  female  38.0      1   \n",
       "2                               Heikkinen, Miss. Laina  female  26.0      0   \n",
       "3         Futrelle, Mrs. Jacques Heath (Lily May Peel)  female  35.0      1   \n",
       "4                             Allen, Mr. William Henry    male  35.0      0   \n",
       "..                                                 ...     ...   ...    ...   \n",
       "886                              Montvila, Rev. Juozas    male  27.0      0   \n",
       "887                       Graham, Miss. Margaret Edith  female  19.0      0   \n",
       "888           Johnston, Miss. Catherine Helen \"Carrie\"  female   NaN      1   \n",
       "889                              Behr, Mr. Karl Howell    male  26.0      0   \n",
       "890                                Dooley, Mr. Patrick    male  32.0      0   \n",
       "\n",
       "     Parch            Ticket     Fare Cabin Embarked  \n",
       "0        0         A/5 21171   7.2500   NaN        S  \n",
       "1        0          PC 17599  71.2833   C85        C  \n",
       "2        0  STON/O2. 3101282   7.9250   NaN        S  \n",
       "3        0            113803  53.1000  C123        S  \n",
       "4        0            373450   8.0500   NaN        S  \n",
       "..     ...               ...      ...   ...      ...  \n",
       "886      0            211536  13.0000   NaN        S  \n",
       "887      0            112053  30.0000   B42        S  \n",
       "888      2        W./C. 6607  23.4500   NaN        S  \n",
       "889      0            111369  30.0000  C148        C  \n",
       "890      0            370376   7.7500   NaN        Q  \n",
       "\n",
       "[891 rows x 12 columns]"
      ]
     },
     "execution_count": 54,
     "metadata": {},
     "output_type": "execute_result"
    }
   ],
   "source": [
    "import pandas as  pd\n",
    "import numpy as np\n",
    "import matplotlib.pyplot as plt\n",
    "import plotly.express as px\n",
    "\n",
    "# On import la data\n",
    "\n",
    "test = pd.read_csv(\"../titanic-project/titanic_data/test.csv\")\n",
    "train = pd.read_csv(\"../titanic-project/titanic_data/train.csv\")\n",
    "train"
   ]
  },
  {
   "cell_type": "markdown",
   "id": "75079342",
   "metadata": {},
   "source": [
    "On compare les différences de survivabilité entre les hommes et les femmes :"
   ]
  },
  {
   "cell_type": "code",
   "execution_count": null,
   "id": "a3395c2d",
   "metadata": {},
   "outputs": [
    {
     "name": "stdout",
     "output_type": "stream",
     "text": [
      "0 données manquantes\n",
      "pas de valeurs aberrantes \"Sex\" \n",
      "Males total: 577\n",
      "Females total: 314\n",
      "Males Survivants: 109\n",
      "Females Survivants: 233\n",
      "{'Survivants': [109, 233], 'Mort': [468, 81]}\n"
     ]
    },
    {
     "data": {
      "image/png": "[encoded data removed]",
      "text/plain": [
       "<Figure size 640x480 with 1 Axes>"
      ]
     },
     "metadata": {},
     "output_type": "display_data"
    }
   ],
   "source": [
    "# Graph Male/Female\n",
    "\n",
    "# On vérifie les valeurs manquantes et aberrantes pour 'Sex' :\n",
    "\n",
    "print(train['Sex'].isna().sum(), \"données manquantes\")\n",
    "if train['Sex'].isin(['male','female']) .all() == True:\n",
    "    print('Pas de valeurs aberrantes pour \"Sex\"')\n",
    "else:\n",
    "    print('Valeurs aberrantes pour \"Sex\"')\n",
    "\n",
    "# On créer les variables pour le graph : \n",
    "\n",
    "males_total = len(train.loc[(train['Sex'] == 'male')])\n",
    "females_total = len(train.loc[(train['Sex'] == 'female')])\n",
    "print(f\"Males total: {males_total}\\nFemales total: {females_total}\")\n",
    "males_total_survived = len(train.loc[(train['Sex'] == 'male') & (train['Survived'] == 1)])\n",
    "females_total_survived = len(train.loc[(train['Sex'] == 'female') & (train['Survived'] == 1)])\n",
    "print(f\"Males Survivants: {males_total_survived}\\nFemales Survivants: {females_total_survived}\")\n",
    "\n",
    "count = {\n",
    "    \"Survivants\": [males_total_survived, females_total_survived],\n",
    "    \"Mort\": [males_total-males_total_survived, females_total-females_total_survived]\n",
    "}\n",
    "print(count)\n",
    "\n",
    "# On créer le graph :\n",
    "\n",
    "fig, ax = plt.subplots()\n",
    "x = np.zeros(2) # list = [0,0 hommes ; 0,0 femmes]\n",
    "ax.set_title(\"Répartition des survivants par sexe\")\n",
    "for key, count in count.items():\n",
    "    i = ax.bar(('Hommes', 'Femmes'),count, width=0.8, bottom=x, label=key)\n",
    "    x+=count\n",
    "    ax.legend()\n",
    "    ax.bar_label(i, label_type=\"center\")\n",
    "\n",
    "plt.show()"
   ]
  },
  {
   "cell_type": "markdown",
   "id": "68788322",
   "metadata": {},
   "source": [
    "On compare les différences de survivabilité selon la classe :"
   ]
  },
  {
   "cell_type": "code",
   "execution_count": null,
   "id": "bc4e80e6",
   "metadata": {},
   "outputs": [
    {
     "name": "stdout",
     "output_type": "stream",
     "text": [
      "0\n",
      "données vérifiées pclass\n",
      "Class 1: 216 total\n",
      "Class 2: 184 total\n",
      "Class 3: 491 total\n",
      "Class 1: 136 Survivants\n",
      "Class 2: 87 Survivants \n",
      "Class 3: 119 Survivants\n"
     ]
    },
    {
     "data": {
      "image/png": "[encoded data removed]",
      "text/plain": [
       "<Figure size 640x480 with 1 Axes>"
      ]
     },
     "metadata": {},
     "output_type": "display_data"
    }
   ],
   "source": [
    "# Graph Classe\n",
    "\n",
    "# On vérifie les valeurs manquantes et aberrantes pour 'Pclass' :\n",
    "\n",
    "print(train['Pclass'].isna().sum(), \"données manquantes\")\n",
    "if train['Pclass'].isin([1,2,3]).all() == True:\n",
    "    print('Pas de valeurs aberrantes pour \"Pclass\"')\n",
    "else:\n",
    "    print('Valeurs aberrantes pour \"Pclass\"')\n",
    "\n",
    "# On créer les variables contenant les informations dont on a besoin : \n",
    "\n",
    "class1_total = len(train.loc[train['Pclass'] == 1])\n",
    "class2_total = len(train.loc[train['Pclass'] == 2])\n",
    "class3_total = len(train.loc[train['Pclass'] == 3])\n",
    "print(f\"Class 1: {class1_total} total\\nClass 2: {class2_total} total\\nClass 3: {class3_total} total\")\n",
    "class1_total_survived = len(train.loc[(train['Pclass'] == 1) & (train['Survived'] == 1)])\n",
    "class2_total_survived = len(train.loc[(train['Pclass'] == 2) & (train['Survived'] == 1)])\n",
    "class3_total_survived = len(train.loc[(train['Pclass'] == 3) & (train['Survived'] == 1)])\n",
    "print(f\"Class 1: {class1_total_survived} Survivants\\nClass 2: {class2_total_survived} Survivants \\nClass 3: {class3_total_survived} Survivants\")\n",
    "count = {\n",
    "    \"Survivants\": [class1_total_survived, class2_total_survived, class3_total_survived],\n",
    "    \"Mort\": [class1_total-class1_total_survived, class2_total-class2_total_survived, class3_total-class3_total_survived]\n",
    "}\n",
    "\n",
    "# On créer le graph :\n",
    "\n",
    "fig, ax = plt.subplots()\n",
    "x = np.zeros(3) # list = [0,0 hommes ; 0,0 femmes]\n",
    "ax.set_title(\"Répartition des survivants par classe\")\n",
    "for key, count in count.items():\n",
    "    i = ax.bar(('Classe 1', 'Classe 2', 'Classe 3'),count, width=0.8, bottom=x, label=key)\n",
    "    x+=count\n",
    "    ax.legend()\n",
    "    ax.bar_label(i, label_type=\"center\")\n",
    "\n",
    "plt.show()"
   ]
  },
  {
   "cell_type": "markdown",
   "id": "f3e84d91",
   "metadata": {},
   "source": [
    "On compare la différence de survivabilité par Age:"
   ]
  },
  {
   "cell_type": "code",
   "execution_count": null,
   "id": "7ee5d9fa",
   "metadata": {},
   "outputs": [],
   "source": [
    "# # Graph Age\n",
    "\n",
    "# # make data\n",
    "\n",
    "# # on remplace les missing values par la moyenne des âges de chaque sexe\n",
    "\n",
    "# total_males_survived = train['Age'].dropna().loc[(train['Sex'] == 'male') & (train['Survived'] == 1)]\n",
    "# total_females_survived = train['Age'].dropna().loc[(train['Sex'] == 'female') & (train['Survived'] == 1)]\n",
    "# total_males_deaths = train['Age'].dropna().loc[(train['Sex'] == 'male') & (train['Survived'] == 0)]\n",
    "# total_females_deaths = train['Age'].dropna().loc[(train['Sex'] == 'female') & (train['Survived'] == 0)]\n",
    "\n",
    "# moy_age_male_survived = round(total_males_survived.mean())\n",
    "# moy_age_female_survived = round(total_females_survived.mean())\n",
    "# moy_age_male_deaths = round(total_males_deaths.mean())\n",
    "# moy_age_female_deaths = round(total_females_deaths.mean())\n",
    "\n",
    "# train.loc[(train['Sex'] == 'male') & (train['Survived'] == 1), 'Age'] = train.loc[(train['Sex'] == 'male') & (train['Survived'] == 1), 'Age'].fillna(moy_age_male_survived)\n",
    "# train.loc[(train['Sex'] == 'female') & (train['Survived'] == 1), 'Age'] = train.loc[(train['Sex'] == 'female') & (train['Survived'] == 1), 'Age'].fillna(moy_age_female_survived)\n",
    "# train.loc[(train['Sex'] == 'male') & (train['Survived'] == 0), 'Age'] = train.loc[(train['Sex'] == 'male') & (train['Survived'] == 0), 'Age'].fillna(moy_age_male_deaths)\n",
    "# train.loc[(train['Sex'] == 'female') & (train['Survived'] == 0), 'Age'] = train.loc[(train['Sex'] == 'female') & (train['Survived'] == 0), 'Age'].fillna(moy_age_female_deaths)\n",
    "\n",
    "# train_age = train[['Age', 'Survived']].copy()\n",
    "# train_age['age_group'] = pd.cut(train_age['Age'], bins=8, precision = 0)\n",
    "# total_survivors = (train_age['Survived'] == 1).sum()\n",
    "# total_deaths = (train_age['Survived'] == 0).sum()\n",
    "\n",
    "# survivants = train_age[train_age['Survived'] == 1].groupby('age_group', observed=True).size()\n",
    "# morts = train_age[train_age['Survived'] == 0].groupby('age_group', observed=True).size()\n",
    "\n",
    "# print(survivants,morts, total_deaths,total_survivors)\n",
    "\n",
    "# labels = \n",
    "# values = x.values\n",
    "\n",
    "# # make graph\n",
    "\n",
    "# fig, ax = plt.subplots()    \n",
    "# bars = ax.bar(labels, values, edgecolor=\"white\")\n",
    "# for bar, count in zip(bars, values):\n",
    "#     percent = (count / total_survivors)*100\n",
    "#     ax.text(\n",
    "#         bar.get_x() + bar.get_width() /2,\n",
    "#         bar.get_height() / 2 +2,\n",
    "#         f'{percent:.1f}%',\n",
    "#         ha = 'center',\n",
    "#         va='bottom',\n",
    "#         fontsize=9\n",
    "#     )\n",
    "# ax.set_ylabel('Nombre de survivants')\n",
    "# ax.set_xlabel('Age')\n",
    "# ax.set_title('Répartition des survivants par Age')\n",
    "# plt.xticks(rotation=45, ha='right')\n",
    "\n",
    "# plt.show()"
   ]
  },
  {
   "cell_type": "code",
   "execution_count": 85,
   "id": "5d1aabcf",
   "metadata": {},
   "outputs": [
    {
     "name": "stdout",
     "output_type": "stream",
     "text": [
      "0 données manquantes\n",
      "Valeurs aberrantes pour \"Age\"\n",
      "78     0.83\n",
      "305    0.92\n",
      "469    0.75\n",
      "644    0.75\n",
      "755    0.67\n",
      "803    0.42\n",
      "831    0.83\n",
      "Name: Age, dtype: float64\n"
     ]
    },
    {
     "data": {
      "application/vnd.plotly.v1+json": {
       "config": {
        "plotlyServerURL": "https://plot.ly"
       },
       "data": [
        {
         "alignmentgroup": "True",
         "hovertemplate": "Survived=Morts<br>Tranche d'âge=%{x}<br>Nombre=%{y}<extra></extra>",
         "legendgroup": "Morts",
         "marker": {
          "color": "#636efa",
          "pattern": {
           "shape": ""
          }
         },
         "name": "Morts",
         "offsetgroup": "Morts",
         "orientation": "v",
         "showlegend": true,
         "textposition": "auto",
         "type": "bar",
         "x": {
          "bdata": "AAoUHigyPEY=",
          "dtype": "i1"
         },
         "xaxis": "x",
         "y": {
          "bdata": "GAA9AKAAygA3ABwADQAGAA==",
          "dtype": "i2"
         },
         "yaxis": "y"
        },
        {
         "alignmentgroup": "True",
         "hovertemplate": "Survived=Survivants<br>Tranche d'âge=%{x}<br>Nombre=%{y}<extra></extra>",
         "legendgroup": "Survivants",
         "marker": {
          "color": "#EF553B",
          "pattern": {
           "shape": ""
          }
         },
         "name": "Survivants",
         "offsetgroup": "Survivants",
         "orientation": "v",
         "showlegend": true,
         "textposition": "auto",
         "type": "bar",
         "x": {
          "bdata": "AAoUHigyPFA=",
          "dtype": "i1"
         },
         "xaxis": "x",
         "y": {
          "bdata": "JgApAIEASQAiABQABgABAA==",
          "dtype": "i2"
         },
         "yaxis": "y"
        }
       ],
       "layout": {
        "barmode": "group",
        "legend": {
         "title": {
          "text": "Survived"
         },
         "tracegroupgap": 0
        },
        "template": {
         "data": {
          "bar": [
           {
            "error_x": {
             "color": "#2a3f5f"
            },
            "error_y": {
             "color": "#2a3f5f"
            },
            "marker": {
             "line": {
              "color": "#E5ECF6",
              "width": 0.5
             },
             "pattern": {
              "fillmode": "overlay",
              "size": 10,
              "solidity": 0.2
             }
            },
            "type": "bar"
           }
          ],
          "barpolar": [
           {
            "marker": {
             "line": {
              "color": "#E5ECF6",
              "width": 0.5
             },
             "pattern": {
              "fillmode": "overlay",
              "size": 10,
              "solidity": 0.2
             }
            },
            "type": "barpolar"
           }
          ],
          "carpet": [
           {
            "aaxis": {
             "endlinecolor": "#2a3f5f",
             "gridcolor": "white",
             "linecolor": "white",
             "minorgridcolor": "white",
             "startlinecolor": "#2a3f5f"
            },
            "baxis": {
             "endlinecolor": "#2a3f5f",
             "gridcolor": "white",
             "linecolor": "white",
             "minorgridcolor": "white",
             "startlinecolor": "#2a3f5f"
            },
            "type": "carpet"
           }
          ],
          "choropleth": [
           {
            "colorbar": {
             "outlinewidth": 0,
             "ticks": ""
            },
            "type": "choropleth"
           }
          ],
          "contour": [
           {
            "colorbar": {
             "outlinewidth": 0,
             "ticks": ""
            },
            "colorscale": [
             [
              0,
              "#0d0887"
             ],
             [
              0.1111111111111111,
              "#46039f"
             ],
             [
              0.2222222222222222,
              "#7201a8"
             ],
             [
              0.3333333333333333,
              "#9c179e"
             ],
             [
              0.4444444444444444,
              "#bd3786"
             ],
             [
              0.5555555555555556,
              "#d8576b"
             ],
             [
              0.6666666666666666,
              "#ed7953"
             ],
             [
              0.7777777777777778,
              "#fb9f3a"
             ],
             [
              0.8888888888888888,
              "#fdca26"
             ],
             [
              1,
              "#f0f921"
             ]
            ],
            "type": "contour"
           }
          ],
          "contourcarpet": [
           {
            "colorbar": {
             "outlinewidth": 0,
             "ticks": ""
            },
            "type": "contourcarpet"
           }
          ],
          "heatmap": [
           {
            "colorbar": {
             "outlinewidth": 0,
             "ticks": ""
            },
            "colorscale": [
             [
              0,
              "#0d0887"
             ],
             [
              0.1111111111111111,
              "#46039f"
             ],
             [
              0.2222222222222222,
              "#7201a8"
             ],
             [
              0.3333333333333333,
              "#9c179e"
             ],
             [
              0.4444444444444444,
              "#bd3786"
             ],
             [
              0.5555555555555556,
              "#d8576b"
             ],
             [
              0.6666666666666666,
              "#ed7953"
             ],
             [
              0.7777777777777778,
              "#fb9f3a"
             ],
             [
              0.8888888888888888,
              "#fdca26"
             ],
             [
              1,
              "#f0f921"
             ]
            ],
            "type": "heatmap"
           }
          ],
          "histogram": [
           {
            "marker": {
             "pattern": {
              "fillmode": "overlay",
              "size": 10,
              "solidity": 0.2
             }
            },
            "type": "histogram"
           }
          ],
          "histogram2d": [
           {
            "colorbar": {
             "outlinewidth": 0,
             "ticks": ""
            },
            "colorscale": [
             [
              0,
              "#0d0887"
             ],
             [
              0.1111111111111111,
              "#46039f"
             ],
             [
              0.2222222222222222,
              "#7201a8"
             ],
             [
              0.3333333333333333,
              "#9c179e"
             ],
             [
              0.4444444444444444,
              "#bd3786"
             ],
             [
              0.5555555555555556,
              "#d8576b"
             ],
             [
              0.6666666666666666,
              "#ed7953"
             ],
             [
              0.7777777777777778,
              "#fb9f3a"
             ],
             [
              0.8888888888888888,
              "#fdca26"
             ],
             [
              1,
              "#f0f921"
             ]
            ],
            "type": "histogram2d"
           }
          ],
          "histogram2dcontour": [
           {
            "colorbar": {
             "outlinewidth": 0,
             "ticks": ""
            },
            "colorscale": [
             [
              0,
              "#0d0887"
             ],
             [
              0.1111111111111111,
              "#46039f"
             ],
             [
              0.2222222222222222,
              "#7201a8"
             ],
             [
              0.3333333333333333,
              "#9c179e"
             ],
             [
              0.4444444444444444,
              "#bd3786"
             ],
             [
              0.5555555555555556,
              "#d8576b"
             ],
             [
              0.6666666666666666,
              "#ed7953"
             ],
             [
              0.7777777777777778,
              "#fb9f3a"
             ],
             [
              0.8888888888888888,
              "#fdca26"
             ],
             [
              1,
              "#f0f921"
             ]
            ],
            "type": "histogram2dcontour"
           }
          ],
          "mesh3d": [
           {
            "colorbar": {
             "outlinewidth": 0,
             "ticks": ""
            },
            "type": "mesh3d"
           }
          ],
          "parcoords": [
           {
            "line": {
             "colorbar": {
              "outlinewidth": 0,
              "ticks": ""
             }
            },
            "type": "parcoords"
           }
          ],
          "pie": [
           {
            "automargin": true,
            "type": "pie"
           }
          ],
          "scatter": [
           {
            "fillpattern": {
             "fillmode": "overlay",
             "size": 10,
             "solidity": 0.2
            },
            "type": "scatter"
           }
          ],
          "scatter3d": [
           {
            "line": {
             "colorbar": {
              "outlinewidth": 0,
              "ticks": ""
             }
            },
            "marker": {
             "colorbar": {
              "outlinewidth": 0,
              "ticks": ""
             }
            },
            "type": "scatter3d"
           }
          ],
          "scattercarpet": [
           {
            "marker": {
             "colorbar": {
              "outlinewidth": 0,
              "ticks": ""
             }
            },
            "type": "scattercarpet"
           }
          ],
          "scattergeo": [
           {
            "marker": {
             "colorbar": {
              "outlinewidth": 0,
              "ticks": ""
             }
            },
            "type": "scattergeo"
           }
          ],
          "scattergl": [
           {
            "marker": {
             "colorbar": {
              "outlinewidth": 0,
              "ticks": ""
             }
            },
            "type": "scattergl"
           }
          ],
          "scattermap": [
           {
            "marker": {
             "colorbar": {
              "outlinewidth": 0,
              "ticks": ""
             }
            },
            "type": "scattermap"
           }
          ],
          "scattermapbox": [
           {
            "marker": {
             "colorbar": {
              "outlinewidth": 0,
              "ticks": ""
             }
            },
            "type": "scattermapbox"
           }
          ],
          "scatterpolar": [
           {
            "marker": {
             "colorbar": {
              "outlinewidth": 0,
              "ticks": ""
             }
            },
            "type": "scatterpolar"
           }
          ],
          "scatterpolargl": [
           {
            "marker": {
             "colorbar": {
              "outlinewidth": 0,
              "ticks": ""
             }
            },
            "type": "scatterpolargl"
           }
          ],
          "scatterternary": [
           {
            "marker": {
             "colorbar": {
              "outlinewidth": 0,
              "ticks": ""
             }
            },
            "type": "scatterternary"
           }
          ],
          "surface": [
           {
            "colorbar": {
             "outlinewidth": 0,
             "ticks": ""
            },
            "colorscale": [
             [
              0,
              "#0d0887"
             ],
             [
              0.1111111111111111,
              "#46039f"
             ],
             [
              0.2222222222222222,
              "#7201a8"
             ],
             [
              0.3333333333333333,
              "#9c179e"
             ],
             [
              0.4444444444444444,
              "#bd3786"
             ],
             [
              0.5555555555555556,
              "#d8576b"
             ],
             [
              0.6666666666666666,
              "#ed7953"
             ],
             [
              0.7777777777777778,
              "#fb9f3a"
             ],
             [
              0.8888888888888888,
              "#fdca26"
             ],
             [
              1,
              "#f0f921"
             ]
            ],
            "type": "surface"
           }
          ],
          "table": [
           {
            "cells": {
             "fill": {
              "color": "#EBF0F8"
             },
             "line": {
              "color": "white"
             }
            },
            "header": {
             "fill": {
              "color": "#C8D4E3"
             },
             "line": {
              "color": "white"
             }
            },
            "type": "table"
           }
          ]
         },
         "layout": {
          "annotationdefaults": {
           "arrowcolor": "#2a3f5f",
           "arrowhead": 0,
           "arrowwidth": 1
          },
          "autotypenumbers": "strict",
          "coloraxis": {
           "colorbar": {
            "outlinewidth": 0,
            "ticks": ""
           }
          },
          "colorscale": {
           "diverging": [
            [
             0,
             "#8e0152"
            ],
            [
             0.1,
             "#c51b7d"
            ],
            [
             0.2,
             "#de77ae"
            ],
            [
             0.3,
             "#f1b6da"
            ],
            [
             0.4,
             "#fde0ef"
            ],
            [
             0.5,
             "#f7f7f7"
            ],
            [
             0.6,
             "#e6f5d0"
            ],
            [
             0.7,
             "#b8e186"
            ],
            [
             0.8,
             "#7fbc41"
            ],
            [
             0.9,
             "#4d9221"
            ],
            [
             1,
             "#276419"
            ]
           ],
           "sequential": [
            [
             0,
             "#0d0887"
            ],
            [
             0.1111111111111111,
             "#46039f"
            ],
            [
             0.2222222222222222,
             "#7201a8"
            ],
            [
             0.3333333333333333,
             "#9c179e"
            ],
            [
             0.4444444444444444,
             "#bd3786"
            ],
            [
             0.5555555555555556,
             "#d8576b"
            ],
            [
             0.6666666666666666,
             "#ed7953"
            ],
            [
             0.7777777777777778,
             "#fb9f3a"
            ],
            [
             0.8888888888888888,
             "#fdca26"
            ],
            [
             1,
             "#f0f921"
            ]
           ],
           "sequentialminus": [
            [
             0,
             "#0d0887"
            ],
            [
             0.1111111111111111,
             "#46039f"
            ],
            [
             0.2222222222222222,
             "#7201a8"
            ],
            [
             0.3333333333333333,
             "#9c179e"
            ],
            [
             0.4444444444444444,
             "#bd3786"
            ],
            [
             0.5555555555555556,
             "#d8576b"
            ],
            [
             0.6666666666666666,
             "#ed7953"
            ],
            [
             0.7777777777777778,
             "#fb9f3a"
            ],
            [
             0.8888888888888888,
             "#fdca26"
            ],
            [
             1,
             "#f0f921"
            ]
           ]
          },
          "colorway": [
           "#636efa",
           "#EF553B",
           "#00cc96",
           "#ab63fa",
           "#FFA15A",
           "#19d3f3",
           "#FF6692",
           "#B6E880",
           "#FF97FF",
           "#FECB52"
          ],
          "font": {
           "color": "#2a3f5f"
          },
          "geo": {
           "bgcolor": "white",
           "lakecolor": "white",
           "landcolor": "#E5ECF6",
           "showlakes": true,
           "showland": true,
           "subunitcolor": "white"
          },
          "hoverlabel": {
           "align": "left"
          },
          "hovermode": "closest",
          "mapbox": {
           "style": "light"
          },
          "paper_bgcolor": "white",
          "plot_bgcolor": "#E5ECF6",
          "polar": {
           "angularaxis": {
            "gridcolor": "white",
            "linecolor": "white",
            "ticks": ""
           },
           "bgcolor": "#E5ECF6",
           "radialaxis": {
            "gridcolor": "white",
            "linecolor": "white",
            "ticks": ""
           }
          },
          "scene": {
           "xaxis": {
            "backgroundcolor": "#E5ECF6",
            "gridcolor": "white",
            "gridwidth": 2,
            "linecolor": "white",
            "showbackground": true,
            "ticks": "",
            "zerolinecolor": "white"
           },
           "yaxis": {
            "backgroundcolor": "#E5ECF6",
            "gridcolor": "white",
            "gridwidth": 2,
            "linecolor": "white",
            "showbackground": true,
            "ticks": "",
            "zerolinecolor": "white"
           },
           "zaxis": {
            "backgroundcolor": "#E5ECF6",
            "gridcolor": "white",
            "gridwidth": 2,
            "linecolor": "white",
            "showbackground": true,
            "ticks": "",
            "zerolinecolor": "white"
           }
          },
          "shapedefaults": {
           "line": {
            "color": "#2a3f5f"
           }
          },
          "ternary": {
           "aaxis": {
            "gridcolor": "white",
            "linecolor": "white",
            "ticks": ""
           },
           "baxis": {
            "gridcolor": "white",
            "linecolor": "white",
            "ticks": ""
           },
           "bgcolor": "#E5ECF6",
           "caxis": {
            "gridcolor": "white",
            "linecolor": "white",
            "ticks": ""
           }
          },
          "title": {
           "x": 0.05
          },
          "xaxis": {
           "automargin": true,
           "gridcolor": "white",
           "linecolor": "white",
           "ticks": "",
           "title": {
            "standoff": 15
           },
           "zerolinecolor": "white",
           "zerolinewidth": 2
          },
          "yaxis": {
           "automargin": true,
           "gridcolor": "white",
           "linecolor": "white",
           "ticks": "",
           "title": {
            "standoff": 15
           },
           "zerolinecolor": "white",
           "zerolinewidth": 2
          }
         }
        },
        "title": {
         "text": "Morts vs Survivants par tranche d'âge"
        },
        "xaxis": {
         "anchor": "y",
         "domain": [
          0,
          1
         ],
         "title": {
          "text": "Tranche d'âge"
         }
        },
        "yaxis": {
         "anchor": "x",
         "domain": [
          0,
          1
         ],
         "title": {
          "text": "Nombre"
         }
        }
       }
      }
     },
     "metadata": {},
     "output_type": "display_data"
    }
   ],
   "source": [
    "# Graph Age\n",
    "\n",
    "# On vérifie les missing values et les valeurs aberrantes\n",
    "\n",
    "print(train['Age'].isna().sum(), \"données manquantes\")\n",
    "if (train['Age'].dropna().isin(np.arange(0,120,0.5)).all() == True):\n",
    "    print('Pas de valeurs aberrantes pour \"Age\"')\n",
    "else:\n",
    "    print('Valeurs aberrantes pour \"Age\"')\n",
    "    print(train['Age'].dropna()[~train['Age'].dropna().isin(np.arange(0,120,0.5))])\n",
    "\n",
    "# Il y a quelque valeurs aberrantes mais elles ne sont pas déterminantes, on choisit donc de les laisser telles qu'elles\n",
    "\n",
    "# On remplace les missing values par la moyenne des âges de chaque sexe\n",
    "\n",
    "total_males_survived = train['Age'].dropna().loc[(train['Sex'] == 'male') & (train['Survived'] == 1)]\n",
    "total_females_survived = train['Age'].dropna().loc[(train['Sex'] == 'female') & (train['Survived'] == 1)]\n",
    "total_males_deaths = train['Age'].dropna().loc[(train['Sex'] == 'male') & (train['Survived'] == 0)]\n",
    "total_females_deaths = train['Age'].dropna().loc[(train['Sex'] == 'female') & (train['Survived'] == 0)]\n",
    "\n",
    "moy_age_male_survived = round(total_males_survived.mean())\n",
    "moy_age_female_survived = round(total_females_survived.mean())\n",
    "moy_age_male_deaths = round(total_males_deaths.mean())\n",
    "moy_age_female_deaths = round(total_females_deaths.mean())\n",
    "\n",
    "train.loc[(train['Sex'] == 'male') & (train['Survived'] == 1), 'Age'] = train.loc[(train['Sex'] == 'male') & (train['Survived'] == 1), 'Age'].fillna(moy_age_male_survived)\n",
    "train.loc[(train['Sex'] == 'female') & (train['Survived'] == 1), 'Age'] = train.loc[(train['Sex'] == 'female') & (train['Survived'] == 1), 'Age'].fillna(moy_age_female_survived)\n",
    "train.loc[(train['Sex'] == 'male') & (train['Survived'] == 0), 'Age'] = train.loc[(train['Sex'] == 'male') & (train['Survived'] == 0), 'Age'].fillna(moy_age_male_deaths)\n",
    "train.loc[(train['Sex'] == 'female') & (train['Survived'] == 0), 'Age'] = train.loc[(train['Sex'] == 'female') & (train['Survived'] == 0), 'Age'].fillna(moy_age_female_deaths)\n",
    "\n",
    "# On divise les âges par tranche de 10\n",
    "df = train[['Age', 'Survived']].copy()\n",
    "df['age_bin'] = (df['Age'] // 10 * 10).astype(int)\n",
    "\n",
    "grouped = df.groupby(['age_bin', 'Survived']).size().reset_index(name='count')\n",
    "\n",
    "# Remplacer le 0/1 par du texte\n",
    "grouped['Survived'] = grouped['Survived'].map({0: 'Morts', 1: 'Survivants'})\n",
    "\n",
    "# Graph\n",
    "fig = px.bar(\n",
    "    grouped,\n",
    "    x='age_bin',\n",
    "    y='count',\n",
    "    color='Survived',\n",
    "    barmode='group',\n",
    "    labels={'age_bin': \"Tranche d'âge\", 'count': \"Nombre\"},\n",
    "    title=\"Morts vs Survivants par tranche d'âge\"\n",
    ")\n",
    "\n",
    "fig.show()"
   ]
  },
  {
   "cell_type": "markdown",
   "id": "d5c968a2",
   "metadata": {},
   "source": [
    "On compare la différence de survivabilité selon le prix du billet :"
   ]
  },
  {
   "cell_type": "code",
   "execution_count": null,
   "id": "8c89a775",
   "metadata": {},
   "outputs": [
    {
     "name": "stdout",
     "output_type": "stream",
     "text": [
      "0 données manquantes\n",
      "non vérifiées ticket\n",
      "0      True\n",
      "1      True\n",
      "2      True\n",
      "3      True\n",
      "4      True\n",
      "       ... \n",
      "886    True\n",
      "887    True\n",
      "888    True\n",
      "889    True\n",
      "890    True\n",
      "Name: Ticket, Length: 891, dtype: bool\n"
     ]
    }
   ],
   "source": [
    "# Graph Fare\n",
    "\n",
    "# On vérifie qu'il n'y a pas de données manquantes ni aberrantes :\n",
    "\n",
    "print(train['Fare'].isna().sum(), \"données manquantes\")\n",
    "if (train['Fare'].isin([train['Ticket'].]).all() == True):\n",
    "    print('données vérifiées ticket')\n",
    "else:\n",
    "    print('non vérifiées ticket')\n",
    "    print(~train['Ticket'].isin([train['Ticket'].value_counts]))\n",
    "\n",
    "# \n",
    "\n",
    "\n",
    "\n",
    "\n",
    "\n"
   ]
  },
  {
   "cell_type": "markdown",
   "id": "39f2148e",
   "metadata": {},
   "source": [
    "2/ Manipulation de données test.csv"
   ]
  },
  {
   "cell_type": "markdown",
   "id": "0d704312",
   "metadata": {},
   "source": [
    "On regarde le type de données de chaque colonne"
   ]
  },
  {
   "cell_type": "code",
   "execution_count": 5,
   "id": "0292741f",
   "metadata": {},
   "outputs": [
    {
     "name": "stdout",
     "output_type": "stream",
     "text": [
      "PassengerId      int64\n",
      "Survived         int64\n",
      "Pclass           int64\n",
      "Name            object\n",
      "Sex             object\n",
      "Age            float64\n",
      "SibSp            int64\n",
      "Parch            int64\n",
      "Ticket          object\n",
      "Fare           float64\n",
      "Cabin           object\n",
      "Embarked        object\n",
      "dtype: object\n"
     ]
    }
   ],
   "source": [
    "print(train.dtypes)"
   ]
  },
  {
   "cell_type": "markdown",
   "id": "38d7cbab",
   "metadata": {},
   "source": [
    "On regarde que la table s'organise en 12 colonnes : <ul>ID, passengerId, Pclass, Name, Sex, Age, SibSp, Parch, Ticket, Fare, Cabin et Embarked</ul>\n",
    "<ul>Variable / Definition / Key / Contraintes</ul>\n",
    "<ul>PassengerID / ID table / Num(Int) / Unique</ul>\n",
    "<ul>pclass /\tTicket class / Num(Int) 1,2 ou 3</ul>\n",
    "<ul>sex /\tSex / Alpha 2 choices : male & female\t</ul>\n",
    "<ul>Age /\tAge in years / Num(Decimal(10,1)) avec 0.5 de step</ul>\n",
    "<ul>sibsp  /\t# of siblings & spouses aboard the Titanic / Num(Int)</ul>\n",
    "<ul>parch /\t# of parents & children aboard the Titanic / Num(Int)</ul>\n",
    "<ul>ticket\t/ Ticket number / Alpha / Unique</ul>\n",
    "<ul>fare /\tPassenger fare / Num(Float)</ul>\n",
    "<ul>cabin /\tCabin number / Alpha</ul>\n",
    "<ul>embarked / Port of Embarkation\tC = Cherbourg, Q = Queenstown, S = Southampton / Alpha 3 choices : C,Q,S</ul>"
   ]
  },
  {
   "cell_type": "markdown",
   "id": "83fee8b0",
   "metadata": {},
   "source": [
    "On vérifie maintenant que toutes les données dans chaque colonne correspond bien à leur Key définit plus haut précédemment"
   ]
  },
  {
   "cell_type": "code",
   "execution_count": null,
   "id": "0449a58c",
   "metadata": {},
   "outputs": [
    {
     "name": "stdout",
     "output_type": "stream",
     "text": [
      "PassengerId      0\n",
      "Pclass           0\n",
      "Name             0\n",
      "Sex              0\n",
      "Age             86\n",
      "SibSp            0\n",
      "Parch            0\n",
      "Ticket           0\n",
      "Fare             1\n",
      "Cabin          327\n",
      "Embarked         0\n",
      "dtype: int64\n",
      "----------------------------\n",
      "données vérifiées sexe\n",
      "données vérifiées pclass\n",
      "données vérifiées sibSp\n",
      "données vérifiées Parch\n",
      "non vérifiées Age\n",
      "201    0.33\n",
      "250    0.92\n",
      "281    0.75\n",
      "307    0.83\n",
      "354    0.17\n",
      "Name: Age, dtype: float64\n",
      "non vérifiées ticket\n",
      "0      True\n",
      "1      True\n",
      "2      True\n",
      "3      True\n",
      "4      True\n",
      "       ... \n",
      "413    True\n",
      "414    True\n",
      "415    True\n",
      "416    True\n",
      "417    True\n",
      "Name: Ticket, Length: 418, dtype: bool\n"
     ]
    }
   ],
   "source": [
    "# On doit vérifier quelles colonnes contiennent des missing datas et quelles colonnes n'en contiennent pas\n",
    "print(test.isna().sum())\n",
    "print(\"----------------------------\")\n",
    "\n",
    "# On teste les valeurs dans Sexe pour voir si elles correspondent bien à la Key\n",
    "# Contraintes : string contenant 'male' ou 'female'\n",
    "test2 = test['Sex'].isin(['male','female']) \n",
    "if test2.all() == True:\n",
    "    print('données vérifiées sexe')\n",
    "else:\n",
    "    print('non vérifiées sexe')\n",
    "    print(test2.value_counts())\n",
    "\n",
    "# On teste les valeurs dans Pclass pour voir si elles correspondent bien à la Key\n",
    "# Contraintes : Int égal à 1, 2 ou 3\n",
    "test2 = test['Pclass'].isin([1,2,3])\n",
    "if test2.all() == True:\n",
    "    print('données vérifiées pclass')\n",
    "else:\n",
    "    print('non vérifiées pclass')\n",
    "    print(test2.value_counts())\n",
    "\n",
    "# On teste les valeurs dans SibSp pour voir si elles correspondent bien à la Key\n",
    "# Contraintes : Supérieure ou égale à 0, tous des entiers et non irréaliste\n",
    "test2 = test['SibSp'] >= 0\n",
    "if (test2.all() == True) and (test2.max() < 10):\n",
    "    print('données vérifiées sibSp')\n",
    "else:\n",
    "    print('non vérifiées sibsp')\n",
    "    print(test2.value_counts())\n",
    "    \n",
    "# On teste les valeurs dans Parch pour voir si elles correspondent bien à la Key\n",
    "# Contraintes : Supérieure ou égale à 0, tous des entiers et non irréaliste\n",
    "test2 = test['Parch'] >= 0\n",
    "if (test2.all() == True) and (test2.max() < 10):\n",
    "    print('données vérifiées Parch')\n",
    "else:\n",
    "    print('non vérifiées Parch')\n",
    "    print(test2[~(test2.all() == True) and (test2.max() < 10)])\n",
    "\n",
    "# On teste les valeurs dans Age pour voir si elles correspondent bien à la Key\n",
    "# On doit drop les missing values ou sinon cela fausse le résultat de l'analyse\n",
    "# Contraintes : Strictement supérieur 0, des float avec un step de 0.5, non irréaliste\n",
    "test2 = test['Age'].dropna()\n",
    "test2_Na = test2.isin(np.arange(0,120,0.5))\n",
    "if (test2_Na.all() == True):\n",
    "    print('données vérifiées Age')\n",
    "else:\n",
    "    print('non vérifiées Age')\n",
    "    print(test2[~test2_Na])\n",
    "\n",
    "\n",
    "# On teste les valeurs dans Ticket pour voir si elles correspondent bien à la Key\n",
    "# Contraintes : Alpha-num strings uniques\n",
    "test_t = test['Ticket']\n",
    "test2 = test_t.isin([test_t.value_counts])\n",
    "if (test2.all() == True):\n",
    "    print('données vérifiées ticket')\n",
    "else:\n",
    "    print('non vérifiées ticket')\n",
    "    print(~test2)\n",
    "# if (test2.all() == True) and (test2.max() < 10):\n",
    "#     print('données vérifiées sibSp')\n",
    "# else:\n",
    "#     print('non vérifiées sibsp')\n",
    "#     print(test2.value_counts())\n",
    "\n",
    "\n",
    "\n"
   ]
  },
  {
   "cell_type": "markdown",
   "id": "1df50d59",
   "metadata": {},
   "source": [
    "Age et Cabin ont des données manquantes. Ce sont tout les deux des types object, on fait donc un fillna(\"unknown\")"
   ]
  },
  {
   "cell_type": "code",
   "execution_count": 7,
   "id": "380ef004",
   "metadata": {},
   "outputs": [
    {
     "data": {
      "application/vnd.microsoft.datawrangler.viewer.v0+json": {
       "columns": [
        {
         "name": "index",
         "rawType": "int64",
         "type": "integer"
        },
        {
         "name": "PassengerId",
         "rawType": "int64",
         "type": "integer"
        },
        {
         "name": "Pclass",
         "rawType": "int64",
         "type": "integer"
        },
        {
         "name": "Name",
         "rawType": "object",
         "type": "string"
        },
        {
         "name": "Sex",
         "rawType": "object",
         "type": "string"
        },
        {
         "name": "Age",
         "rawType": "object",
         "type": "unknown"
        },
        {
         "name": "SibSp",
         "rawType": "int64",
         "type": "integer"
        },
        {
         "name": "Parch",
         "rawType": "int64",
         "type": "integer"
        },
        {
         "name": "Ticket",
         "rawType": "object",
         "type": "string"
        },
        {
         "name": "Fare",
         "rawType": "object",
         "type": "unknown"
        },
        {
         "name": "Cabin",
         "rawType": "object",
         "type": "string"
        },
        {
         "name": "Embarked",
         "rawType": "object",
         "type": "string"
        }
       ],
       "ref": "0dbac0b4-23fa-4afa-8a42-b8921dc5b16e",
       "rows": [
        [
         "0",
         "892",
         "3",
         "Kelly, Mr. James",
         "male",
         "34.5",
         "0",
         "0",
         "330911",
         "7.8292",
         "unknown",
         "Q"
        ],
        [
         "1",
         "893",
         "3",
         "Wilkes, Mrs. James (Ellen Needs)",
         "female",
         "47.0",
         "1",
         "0",
         "363272",
         "7.0",
         "unknown",
         "S"
        ],
        [
         "2",
         "894",
         "2",
         "Myles, Mr. Thomas Francis",
         "male",
         "62.0",
         "0",
         "0",
         "240276",
         "9.6875",
         "unknown",
         "Q"
        ],
        [
         "3",
         "895",
         "3",
         "Wirz, Mr. Albert",
         "male",
         "27.0",
         "0",
         "0",
         "315154",
         "8.6625",
         "unknown",
         "S"
        ],
        [
         "4",
         "896",
         "3",
         "Hirvonen, Mrs. Alexander (Helga E Lindqvist)",
         "female",
         "22.0",
         "1",
         "1",
         "3101298",
         "12.2875",
         "unknown",
         "S"
        ],
        [
         "5",
         "897",
         "3",
         "Svensson, Mr. Johan Cervin",
         "male",
         "14.0",
         "0",
         "0",
         "7538",
         "9.225",
         "unknown",
         "S"
        ],
        [
         "6",
         "898",
         "3",
         "Connolly, Miss. Kate",
         "female",
         "30.0",
         "0",
         "0",
         "330972",
         "7.6292",
         "unknown",
         "Q"
        ],
        [
         "7",
         "899",
         "2",
         "Caldwell, Mr. Albert Francis",
         "male",
         "26.0",
         "1",
         "1",
         "248738",
         "29.0",
         "unknown",
         "S"
        ],
        [
         "8",
         "900",
         "3",
         "Abrahim, Mrs. Joseph (Sophie Halaut Easu)",
         "female",
         "18.0",
         "0",
         "0",
         "2657",
         "7.2292",
         "unknown",
         "C"
        ],
        [
         "9",
         "901",
         "3",
         "Davies, Mr. John Samuel",
         "male",
         "21.0",
         "2",
         "0",
         "A/4 48871",
         "24.15",
         "unknown",
         "S"
        ],
        [
         "10",
         "902",
         "3",
         "Ilieff, Mr. Ylio",
         "male",
         "unknown",
         "0",
         "0",
         "349220",
         "7.8958",
         "unknown",
         "S"
        ],
        [
         "11",
         "903",
         "1",
         "Jones, Mr. Charles Cresson",
         "male",
         "46.0",
         "0",
         "0",
         "694",
         "26.0",
         "unknown",
         "S"
        ],
        [
         "12",
         "904",
         "1",
         "Snyder, Mrs. John Pillsbury (Nelle Stevenson)",
         "female",
         "23.0",
         "1",
         "0",
         "21228",
         "82.2667",
         "B45",
         "S"
        ],
        [
         "13",
         "905",
         "2",
         "Howard, Mr. Benjamin",
         "male",
         "63.0",
         "1",
         "0",
         "24065",
         "26.0",
         "unknown",
         "S"
        ],
        [
         "14",
         "906",
         "1",
         "Chaffee, Mrs. Herbert Fuller (Carrie Constance Toogood)",
         "female",
         "47.0",
         "1",
         "0",
         "W.E.P. 5734",
         "61.175",
         "E31",
         "S"
        ],
        [
         "15",
         "907",
         "2",
         "del Carlo, Mrs. Sebastiano (Argenia Genovesi)",
         "female",
         "24.0",
         "1",
         "0",
         "SC/PARIS 2167",
         "27.7208",
         "unknown",
         "C"
        ],
        [
         "16",
         "908",
         "2",
         "Keane, Mr. Daniel",
         "male",
         "35.0",
         "0",
         "0",
         "233734",
         "12.35",
         "unknown",
         "Q"
        ],
        [
         "17",
         "909",
         "3",
         "Assaf, Mr. Gerios",
         "male",
         "21.0",
         "0",
         "0",
         "2692",
         "7.225",
         "unknown",
         "C"
        ],
        [
         "18",
         "910",
         "3",
         "Ilmakangas, Miss. Ida Livija",
         "female",
         "27.0",
         "1",
         "0",
         "STON/O2. 3101270",
         "7.925",
         "unknown",
         "S"
        ],
        [
         "19",
         "911",
         "3",
         "Assaf Khalil, Mrs. Mariana (Miriam\")\"",
         "female",
         "45.0",
         "0",
         "0",
         "2696",
         "7.225",
         "unknown",
         "C"
        ],
        [
         "20",
         "912",
         "1",
         "Rothschild, Mr. Martin",
         "male",
         "55.0",
         "1",
         "0",
         "PC 17603",
         "59.4",
         "unknown",
         "C"
        ],
        [
         "21",
         "913",
         "3",
         "Olsen, Master. Artur Karl",
         "male",
         "9.0",
         "0",
         "1",
         "C 17368",
         "3.1708",
         "unknown",
         "S"
        ],
        [
         "22",
         "914",
         "1",
         "Flegenheim, Mrs. Alfred (Antoinette)",
         "female",
         "unknown",
         "0",
         "0",
         "PC 17598",
         "31.6833",
         "unknown",
         "S"
        ],
        [
         "23",
         "915",
         "1",
         "Williams, Mr. Richard Norris II",
         "male",
         "21.0",
         "0",
         "1",
         "PC 17597",
         "61.3792",
         "unknown",
         "C"
        ],
        [
         "24",
         "916",
         "1",
         "Ryerson, Mrs. Arthur Larned (Emily Maria Borie)",
         "female",
         "48.0",
         "1",
         "3",
         "PC 17608",
         "262.375",
         "B57 B59 B63 B66",
         "C"
        ],
        [
         "25",
         "917",
         "3",
         "Robins, Mr. Alexander A",
         "male",
         "50.0",
         "1",
         "0",
         "A/5. 3337",
         "14.5",
         "unknown",
         "S"
        ],
        [
         "26",
         "918",
         "1",
         "Ostby, Miss. Helene Ragnhild",
         "female",
         "22.0",
         "0",
         "1",
         "113509",
         "61.9792",
         "B36",
         "C"
        ],
        [
         "27",
         "919",
         "3",
         "Daher, Mr. Shedid",
         "male",
         "22.5",
         "0",
         "0",
         "2698",
         "7.225",
         "unknown",
         "C"
        ],
        [
         "28",
         "920",
         "1",
         "Brady, Mr. John Bertram",
         "male",
         "41.0",
         "0",
         "0",
         "113054",
         "30.5",
         "A21",
         "S"
        ],
        [
         "29",
         "921",
         "3",
         "Samaan, Mr. Elias",
         "male",
         "unknown",
         "2",
         "0",
         "2662",
         "21.6792",
         "unknown",
         "C"
        ],
        [
         "30",
         "922",
         "2",
         "Louch, Mr. Charles Alexander",
         "male",
         "50.0",
         "1",
         "0",
         "SC/AH 3085",
         "26.0",
         "unknown",
         "S"
        ],
        [
         "31",
         "923",
         "2",
         "Jefferys, Mr. Clifford Thomas",
         "male",
         "24.0",
         "2",
         "0",
         "C.A. 31029",
         "31.5",
         "unknown",
         "S"
        ],
        [
         "32",
         "924",
         "3",
         "Dean, Mrs. Bertram (Eva Georgetta Light)",
         "female",
         "33.0",
         "1",
         "2",
         "C.A. 2315",
         "20.575",
         "unknown",
         "S"
        ],
        [
         "33",
         "925",
         "3",
         "Johnston, Mrs. Andrew G (Elizabeth Lily\" Watson)\"",
         "female",
         "unknown",
         "1",
         "2",
         "W./C. 6607",
         "23.45",
         "unknown",
         "S"
        ],
        [
         "34",
         "926",
         "1",
         "Mock, Mr. Philipp Edmund",
         "male",
         "30.0",
         "1",
         "0",
         "13236",
         "57.75",
         "C78",
         "C"
        ],
        [
         "35",
         "927",
         "3",
         "Katavelas, Mr. Vassilios (Catavelas Vassilios\")\"",
         "male",
         "18.5",
         "0",
         "0",
         "2682",
         "7.2292",
         "unknown",
         "C"
        ],
        [
         "36",
         "928",
         "3",
         "Roth, Miss. Sarah A",
         "female",
         "unknown",
         "0",
         "0",
         "342712",
         "8.05",
         "unknown",
         "S"
        ],
        [
         "37",
         "929",
         "3",
         "Cacic, Miss. Manda",
         "female",
         "21.0",
         "0",
         "0",
         "315087",
         "8.6625",
         "unknown",
         "S"
        ],
        [
         "38",
         "930",
         "3",
         "Sap, Mr. Julius",
         "male",
         "25.0",
         "0",
         "0",
         "345768",
         "9.5",
         "unknown",
         "S"
        ],
        [
         "39",
         "931",
         "3",
         "Hee, Mr. Ling",
         "male",
         "unknown",
         "0",
         "0",
         "1601",
         "56.4958",
         "unknown",
         "S"
        ],
        [
         "40",
         "932",
         "3",
         "Karun, Mr. Franz",
         "male",
         "39.0",
         "0",
         "1",
         "349256",
         "13.4167",
         "unknown",
         "C"
        ],
        [
         "41",
         "933",
         "1",
         "Franklin, Mr. Thomas Parham",
         "male",
         "unknown",
         "0",
         "0",
         "113778",
         "26.55",
         "D34",
         "S"
        ],
        [
         "42",
         "934",
         "3",
         "Goldsmith, Mr. Nathan",
         "male",
         "41.0",
         "0",
         "0",
         "SOTON/O.Q. 3101263",
         "7.85",
         "unknown",
         "S"
        ],
        [
         "43",
         "935",
         "2",
         "Corbett, Mrs. Walter H (Irene Colvin)",
         "female",
         "30.0",
         "0",
         "0",
         "237249",
         "13.0",
         "unknown",
         "S"
        ],
        [
         "44",
         "936",
         "1",
         "Kimball, Mrs. Edwin Nelson Jr (Gertrude Parsons)",
         "female",
         "45.0",
         "1",
         "0",
         "11753",
         "52.5542",
         "D19",
         "S"
        ],
        [
         "45",
         "937",
         "3",
         "Peltomaki, Mr. Nikolai Johannes",
         "male",
         "25.0",
         "0",
         "0",
         "STON/O 2. 3101291",
         "7.925",
         "unknown",
         "S"
        ],
        [
         "46",
         "938",
         "1",
         "Chevre, Mr. Paul Romaine",
         "male",
         "45.0",
         "0",
         "0",
         "PC 17594",
         "29.7",
         "A9",
         "C"
        ],
        [
         "47",
         "939",
         "3",
         "Shaughnessy, Mr. Patrick",
         "male",
         "unknown",
         "0",
         "0",
         "370374",
         "7.75",
         "unknown",
         "Q"
        ],
        [
         "48",
         "940",
         "1",
         "Bucknell, Mrs. William Robert (Emma Eliza Ward)",
         "female",
         "60.0",
         "0",
         "0",
         "11813",
         "76.2917",
         "D15",
         "C"
        ],
        [
         "49",
         "941",
         "3",
         "Coutts, Mrs. William (Winnie Minnie\" Treanor)\"",
         "female",
         "36.0",
         "0",
         "2",
         "C.A. 37671",
         "15.9",
         "unknown",
         "S"
        ]
       ],
       "shape": {
        "columns": 11,
        "rows": 418
       }
      },
      "text/html": [
       "<div>\n",
       "<style scoped>\n",
       "    .dataframe tbody tr th:only-of-type {\n",
       "        vertical-align: middle;\n",
       "    }\n",
       "\n",
       "    .dataframe tbody tr th {\n",
       "        vertical-align: top;\n",
       "    }\n",
       "\n",
       "    .dataframe thead th {\n",
       "        text-align: right;\n",
       "    }\n",
       "</style>\n",
       "<table border=\"1\" class=\"dataframe\">\n",
       "  <thead>\n",
       "    <tr style=\"text-align: right;\">\n",
       "      <th></th>\n",
       "      <th>PassengerId</th>\n",
       "      <th>Pclass</th>\n",
       "      <th>Name</th>\n",
       "      <th>Sex</th>\n",
       "      <th>Age</th>\n",
       "      <th>SibSp</th>\n",
       "      <th>Parch</th>\n",
       "      <th>Ticket</th>\n",
       "      <th>Fare</th>\n",
       "      <th>Cabin</th>\n",
       "      <th>Embarked</th>\n",
       "    </tr>\n",
       "  </thead>\n",
       "  <tbody>\n",
       "    <tr>\n",
       "      <th>0</th>\n",
       "      <td>892</td>\n",
       "      <td>3</td>\n",
       "      <td>Kelly, Mr. James</td>\n",
       "      <td>male</td>\n",
       "      <td>34.5</td>\n",
       "      <td>0</td>\n",
       "      <td>0</td>\n",
       "      <td>330911</td>\n",
       "      <td>7.8292</td>\n",
       "      <td>unknown</td>\n",
       "      <td>Q</td>\n",
       "    </tr>\n",
       "    <tr>\n",
       "      <th>1</th>\n",
       "      <td>893</td>\n",
       "      <td>3</td>\n",
       "      <td>Wilkes, Mrs. James (Ellen Needs)</td>\n",
       "      <td>female</td>\n",
       "      <td>47.0</td>\n",
       "      <td>1</td>\n",
       "      <td>0</td>\n",
       "      <td>363272</td>\n",
       "      <td>7.0</td>\n",
       "      <td>unknown</td>\n",
       "      <td>S</td>\n",
       "    </tr>\n",
       "    <tr>\n",
       "      <th>2</th>\n",
       "      <td>894</td>\n",
       "      <td>2</td>\n",
       "      <td>Myles, Mr. Thomas Francis</td>\n",
       "      <td>male</td>\n",
       "      <td>62.0</td>\n",
       "      <td>0</td>\n",
       "      <td>0</td>\n",
       "      <td>240276</td>\n",
       "      <td>9.6875</td>\n",
       "      <td>unknown</td>\n",
       "      <td>Q</td>\n",
       "    </tr>\n",
       "    <tr>\n",
       "      <th>3</th>\n",
       "      <td>895</td>\n",
       "      <td>3</td>\n",
       "      <td>Wirz, Mr. Albert</td>\n",
       "      <td>male</td>\n",
       "      <td>27.0</td>\n",
       "      <td>0</td>\n",
       "      <td>0</td>\n",
       "      <td>315154</td>\n",
       "      <td>8.6625</td>\n",
       "      <td>unknown</td>\n",
       "      <td>S</td>\n",
       "    </tr>\n",
       "    <tr>\n",
       "      <th>4</th>\n",
       "      <td>896</td>\n",
       "      <td>3</td>\n",
       "      <td>Hirvonen, Mrs. Alexander (Helga E Lindqvist)</td>\n",
       "      <td>female</td>\n",
       "      <td>22.0</td>\n",
       "      <td>1</td>\n",
       "      <td>1</td>\n",
       "      <td>3101298</td>\n",
       "      <td>12.2875</td>\n",
       "      <td>unknown</td>\n",
       "      <td>S</td>\n",
       "    </tr>\n",
       "    <tr>\n",
       "      <th>...</th>\n",
       "      <td>...</td>\n",
       "      <td>...</td>\n",
       "      <td>...</td>\n",
       "      <td>...</td>\n",
       "      <td>...</td>\n",
       "      <td>...</td>\n",
       "      <td>...</td>\n",
       "      <td>...</td>\n",
       "      <td>...</td>\n",
       "      <td>...</td>\n",
       "      <td>...</td>\n",
       "    </tr>\n",
       "    <tr>\n",
       "      <th>413</th>\n",
       "      <td>1305</td>\n",
       "      <td>3</td>\n",
       "      <td>Spector, Mr. Woolf</td>\n",
       "      <td>male</td>\n",
       "      <td>unknown</td>\n",
       "      <td>0</td>\n",
       "      <td>0</td>\n",
       "      <td>A.5. 3236</td>\n",
       "      <td>8.05</td>\n",
       "      <td>unknown</td>\n",
       "      <td>S</td>\n",
       "    </tr>\n",
       "    <tr>\n",
       "      <th>414</th>\n",
       "      <td>1306</td>\n",
       "      <td>1</td>\n",
       "      <td>Oliva y Ocana, Dona. Fermina</td>\n",
       "      <td>female</td>\n",
       "      <td>39.0</td>\n",
       "      <td>0</td>\n",
       "      <td>0</td>\n",
       "      <td>PC 17758</td>\n",
       "      <td>108.9</td>\n",
       "      <td>C105</td>\n",
       "      <td>C</td>\n",
       "    </tr>\n",
       "    <tr>\n",
       "      <th>415</th>\n",
       "      <td>1307</td>\n",
       "      <td>3</td>\n",
       "      <td>Saether, Mr. Simon Sivertsen</td>\n",
       "      <td>male</td>\n",
       "      <td>38.5</td>\n",
       "      <td>0</td>\n",
       "      <td>0</td>\n",
       "      <td>SOTON/O.Q. 3101262</td>\n",
       "      <td>7.25</td>\n",
       "      <td>unknown</td>\n",
       "      <td>S</td>\n",
       "    </tr>\n",
       "    <tr>\n",
       "      <th>416</th>\n",
       "      <td>1308</td>\n",
       "      <td>3</td>\n",
       "      <td>Ware, Mr. Frederick</td>\n",
       "      <td>male</td>\n",
       "      <td>unknown</td>\n",
       "      <td>0</td>\n",
       "      <td>0</td>\n",
       "      <td>359309</td>\n",
       "      <td>8.05</td>\n",
       "      <td>unknown</td>\n",
       "      <td>S</td>\n",
       "    </tr>\n",
       "    <tr>\n",
       "      <th>417</th>\n",
       "      <td>1309</td>\n",
       "      <td>3</td>\n",
       "      <td>Peter, Master. Michael J</td>\n",
       "      <td>male</td>\n",
       "      <td>unknown</td>\n",
       "      <td>1</td>\n",
       "      <td>1</td>\n",
       "      <td>2668</td>\n",
       "      <td>22.3583</td>\n",
       "      <td>unknown</td>\n",
       "      <td>C</td>\n",
       "    </tr>\n",
       "  </tbody>\n",
       "</table>\n",
       "<p>418 rows × 11 columns</p>\n",
       "</div>"
      ],
      "text/plain": [
       "     PassengerId  Pclass                                          Name  \\\n",
       "0            892       3                              Kelly, Mr. James   \n",
       "1            893       3              Wilkes, Mrs. James (Ellen Needs)   \n",
       "2            894       2                     Myles, Mr. Thomas Francis   \n",
       "3            895       3                              Wirz, Mr. Albert   \n",
       "4            896       3  Hirvonen, Mrs. Alexander (Helga E Lindqvist)   \n",
       "..           ...     ...                                           ...   \n",
       "413         1305       3                            Spector, Mr. Woolf   \n",
       "414         1306       1                  Oliva y Ocana, Dona. Fermina   \n",
       "415         1307       3                  Saether, Mr. Simon Sivertsen   \n",
       "416         1308       3                           Ware, Mr. Frederick   \n",
       "417         1309       3                      Peter, Master. Michael J   \n",
       "\n",
       "        Sex      Age  SibSp  Parch              Ticket     Fare    Cabin  \\\n",
       "0      male     34.5      0      0              330911   7.8292  unknown   \n",
       "1    female     47.0      1      0              363272      7.0  unknown   \n",
       "2      male     62.0      0      0              240276   9.6875  unknown   \n",
       "3      male     27.0      0      0              315154   8.6625  unknown   \n",
       "4    female     22.0      1      1             3101298  12.2875  unknown   \n",
       "..      ...      ...    ...    ...                 ...      ...      ...   \n",
       "413    male  unknown      0      0           A.5. 3236     8.05  unknown   \n",
       "414  female     39.0      0      0            PC 17758    108.9     C105   \n",
       "415    male     38.5      0      0  SOTON/O.Q. 3101262     7.25  unknown   \n",
       "416    male  unknown      0      0              359309     8.05  unknown   \n",
       "417    male  unknown      1      1                2668  22.3583  unknown   \n",
       "\n",
       "    Embarked  \n",
       "0          Q  \n",
       "1          S  \n",
       "2          Q  \n",
       "3          S  \n",
       "4          S  \n",
       "..       ...  \n",
       "413        S  \n",
       "414        C  \n",
       "415        S  \n",
       "416        S  \n",
       "417        C  \n",
       "\n",
       "[418 rows x 11 columns]"
      ]
     },
     "execution_count": 7,
     "metadata": {},
     "output_type": "execute_result"
    }
   ],
   "source": [
    "test.fillna(\"unknown\")"
   ]
  }
 ],
 "metadata": {
  "kernelspec": {
   "display_name": ".venv",
   "language": "python",
   "name": "python3"
  },
  "language_info": {
   "codemirror_mode": {
    "name": "ipython",
    "version": 3
   },
   "file_extension": ".py",
   "mimetype": "text/x-python",
   "name": "python",
   "nbconvert_exporter": "python",
   "pygments_lexer": "ipython3",
   "version": "3.12.3"
  }
 },
 "nbformat": 4,
 "nbformat_minor": 5
}
